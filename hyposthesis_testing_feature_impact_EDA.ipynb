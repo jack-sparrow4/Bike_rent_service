{
  "nbformat": 4,
  "nbformat_minor": 0,
  "metadata": {
    "colab": {
      "provenance": []
    },
    "kernelspec": {
      "name": "python3",
      "display_name": "Python 3"
    },
    "language_info": {
      "name": "python"
    }
  },
  "cells": [
    {
      "cell_type": "markdown",
      "source": [
        "\n",
        "**Company_A Bike Service**\n",
        "\n",
        "We will try to understand which variables are significant in predicting the demand for shared electric cycles in the Indian market.\n",
        "\n",
        "How well those variables describe the electric cycle demands.\n",
        "\n",
        "Given data description:\n",
        "\n",
        "datetime: datetime\n",
        "\n",
        "season: season (1: spring, 2: summer, 3: fall, 4: winter)\n",
        "\n",
        "holiday: whether day is a holiday or not (extracted from http://dchr.dc.gov/page/holiday-schedule)\n",
        "\n",
        "workingday: if day is neither weekend nor holiday is 1, otherwise is 0.\n",
        "\n",
        "weather:\n",
        "\n",
        "1: Clear, Few clouds, partly cloudy, partly cloudy\n",
        "\n",
        "2: Mist + Cloudy, Mist + Broken clouds, Mist + Few clouds, Mist\n",
        "\n",
        "3: Light Snow, Light Rain + Thunderstorm + Scattered clouds, Light Rain + Scattered clouds\n",
        "\n",
        "4: Heavy Rain + Ice Pallets + Thunderstorm + Mist, Snow + Fog\n",
        "\n",
        "temp: temperature in Celsius\n",
        "\n",
        "atemp: feeling temperature in Celsius\n",
        "\n",
        "humidity: humidity\n",
        "\n",
        "windspeed: wind speed\n",
        "\n",
        "casual: count of casual users\n",
        "\n",
        "registered: count of registered users\n",
        "\n",
        "count: count of total rental bikes including both casual and registered (Target)"
      ],
      "metadata": {
        "id": "iNJFxMXYg0j5"
      }
    },
    {
      "cell_type": "code",
      "execution_count": null,
      "metadata": {
        "id": "xOEic_eZgYHz"
      },
      "outputs": [],
      "source": [
        "#importing libraries\n",
        "import pandas as pd\n",
        "import numpy as np\n",
        "import seaborn as sns\n",
        "import matplotlib.pyplot as plt"
      ]
    },
    {
      "cell_type": "code",
      "source": [
        "from google.colab import drive\n",
        "drive.mount('/content/gdrive',force_remount=True)"
      ],
      "metadata": {
        "colab": {
          "base_uri": "https://localhost:8080/"
        },
        "id": "2gE_g1KLsXeO",
        "outputId": "d46ea962-5640-4edf-e160-585c14ac6f24"
      },
      "execution_count": null,
      "outputs": [
        {
          "output_type": "stream",
          "name": "stdout",
          "text": [
            "Mounted at /content/gdrive\n"
          ]
        }
      ]
    },
    {
      "cell_type": "code",
      "source": [
        "#loading data\n",
        "raw_data = pd.read_csv('/content/gdrive/MyDrive/yulu_bike_sharing.csv')\n",
        "raw_data.head() #checking loaded data"
      ],
      "metadata": {
        "colab": {
          "base_uri": "https://localhost:8080/",
          "height": 444
        },
        "id": "6rXitOk2kH-3",
        "outputId": "79f3b529-60d5-4a17-b307-bc579344d078"
      },
      "execution_count": null,
      "outputs": [
        {
          "output_type": "execute_result",
          "data": {
            "text/plain": [
              "              datetime  season  holiday  workingday  weather  temp   atemp  \\\n",
              "0  2011-01-01 00:00:00       1        0           0        1  9.84  14.395   \n",
              "1  2011-01-01 01:00:00       1        0           0        1  9.02  13.635   \n",
              "2  2011-01-01 02:00:00       1        0           0        1  9.02  13.635   \n",
              "3  2011-01-01 03:00:00       1        0           0        1  9.84  14.395   \n",
              "4  2011-01-01 04:00:00       1        0           0        1  9.84  14.395   \n",
              "\n",
              "   humidity  windspeed  casual  registered  count  \n",
              "0        81        0.0       3          13     16  \n",
              "1        80        0.0       8          32     40  \n",
              "2        80        0.0       5          27     32  \n",
              "3        75        0.0       3          10     13  \n",
              "4        75        0.0       0           1      1  "
            ],
            "text/html": [
              "\n",
              "  <div id=\"df-9eaa0075-b957-4157-a8d9-9b7003b638e9\">\n",
              "    <div class=\"colab-df-container\">\n",
              "      <div>\n",
              "<style scoped>\n",
              "    .dataframe tbody tr th:only-of-type {\n",
              "        vertical-align: middle;\n",
              "    }\n",
              "\n",
              "    .dataframe tbody tr th {\n",
              "        vertical-align: top;\n",
              "    }\n",
              "\n",
              "    .dataframe thead th {\n",
              "        text-align: right;\n",
              "    }\n",
              "</style>\n",
              "<table border=\"1\" class=\"dataframe\">\n",
              "  <thead>\n",
              "    <tr style=\"text-align: right;\">\n",
              "      <th></th>\n",
              "      <th>datetime</th>\n",
              "      <th>season</th>\n",
              "      <th>holiday</th>\n",
              "      <th>workingday</th>\n",
              "      <th>weather</th>\n",
              "      <th>temp</th>\n",
              "      <th>atemp</th>\n",
              "      <th>humidity</th>\n",
              "      <th>windspeed</th>\n",
              "      <th>casual</th>\n",
              "      <th>registered</th>\n",
              "      <th>count</th>\n",
              "    </tr>\n",
              "  </thead>\n",
              "  <tbody>\n",
              "    <tr>\n",
              "      <th>0</th>\n",
              "      <td>2011-01-01 00:00:00</td>\n",
              "      <td>1</td>\n",
              "      <td>0</td>\n",
              "      <td>0</td>\n",
              "      <td>1</td>\n",
              "      <td>9.84</td>\n",
              "      <td>14.395</td>\n",
              "      <td>81</td>\n",
              "      <td>0.0</td>\n",
              "      <td>3</td>\n",
              "      <td>13</td>\n",
              "      <td>16</td>\n",
              "    </tr>\n",
              "    <tr>\n",
              "      <th>1</th>\n",
              "      <td>2011-01-01 01:00:00</td>\n",
              "      <td>1</td>\n",
              "      <td>0</td>\n",
              "      <td>0</td>\n",
              "      <td>1</td>\n",
              "      <td>9.02</td>\n",
              "      <td>13.635</td>\n",
              "      <td>80</td>\n",
              "      <td>0.0</td>\n",
              "      <td>8</td>\n",
              "      <td>32</td>\n",
              "      <td>40</td>\n",
              "    </tr>\n",
              "    <tr>\n",
              "      <th>2</th>\n",
              "      <td>2011-01-01 02:00:00</td>\n",
              "      <td>1</td>\n",
              "      <td>0</td>\n",
              "      <td>0</td>\n",
              "      <td>1</td>\n",
              "      <td>9.02</td>\n",
              "      <td>13.635</td>\n",
              "      <td>80</td>\n",
              "      <td>0.0</td>\n",
              "      <td>5</td>\n",
              "      <td>27</td>\n",
              "      <td>32</td>\n",
              "    </tr>\n",
              "    <tr>\n",
              "      <th>3</th>\n",
              "      <td>2011-01-01 03:00:00</td>\n",
              "      <td>1</td>\n",
              "      <td>0</td>\n",
              "      <td>0</td>\n",
              "      <td>1</td>\n",
              "      <td>9.84</td>\n",
              "      <td>14.395</td>\n",
              "      <td>75</td>\n",
              "      <td>0.0</td>\n",
              "      <td>3</td>\n",
              "      <td>10</td>\n",
              "      <td>13</td>\n",
              "    </tr>\n",
              "    <tr>\n",
              "      <th>4</th>\n",
              "      <td>2011-01-01 04:00:00</td>\n",
              "      <td>1</td>\n",
              "      <td>0</td>\n",
              "      <td>0</td>\n",
              "      <td>1</td>\n",
              "      <td>9.84</td>\n",
              "      <td>14.395</td>\n",
              "      <td>75</td>\n",
              "      <td>0.0</td>\n",
              "      <td>0</td>\n",
              "      <td>1</td>\n",
              "      <td>1</td>\n",
              "    </tr>\n",
              "  </tbody>\n",
              "</table>\n",
              "</div>\n",
              "      <button class=\"colab-df-convert\" onclick=\"convertToInteractive('df-9eaa0075-b957-4157-a8d9-9b7003b638e9')\"\n",
              "              title=\"Convert this dataframe to an interactive table.\"\n",
              "              style=\"display:none;\">\n",
              "        \n",
              "  <svg xmlns=\"http://www.w3.org/2000/svg\" height=\"24px\"viewBox=\"0 0 24 24\"\n",
              "       width=\"24px\">\n",
              "    <path d=\"M0 0h24v24H0V0z\" fill=\"none\"/>\n",
              "    <path d=\"M18.56 5.44l.94 2.06.94-2.06 2.06-.94-2.06-.94-.94-2.06-.94 2.06-2.06.94zm-11 1L8.5 8.5l.94-2.06 2.06-.94-2.06-.94L8.5 2.5l-.94 2.06-2.06.94zm10 10l.94 2.06.94-2.06 2.06-.94-2.06-.94-.94-2.06-.94 2.06-2.06.94z\"/><path d=\"M17.41 7.96l-1.37-1.37c-.4-.4-.92-.59-1.43-.59-.52 0-1.04.2-1.43.59L10.3 9.45l-7.72 7.72c-.78.78-.78 2.05 0 2.83L4 21.41c.39.39.9.59 1.41.59.51 0 1.02-.2 1.41-.59l7.78-7.78 2.81-2.81c.8-.78.8-2.07 0-2.86zM5.41 20L4 18.59l7.72-7.72 1.47 1.35L5.41 20z\"/>\n",
              "  </svg>\n",
              "      </button>\n",
              "      \n",
              "  <style>\n",
              "    .colab-df-container {\n",
              "      display:flex;\n",
              "      flex-wrap:wrap;\n",
              "      gap: 12px;\n",
              "    }\n",
              "\n",
              "    .colab-df-convert {\n",
              "      background-color: #E8F0FE;\n",
              "      border: none;\n",
              "      border-radius: 50%;\n",
              "      cursor: pointer;\n",
              "      display: none;\n",
              "      fill: #1967D2;\n",
              "      height: 32px;\n",
              "      padding: 0 0 0 0;\n",
              "      width: 32px;\n",
              "    }\n",
              "\n",
              "    .colab-df-convert:hover {\n",
              "      background-color: #E2EBFA;\n",
              "      box-shadow: 0px 1px 2px rgba(60, 64, 67, 0.3), 0px 1px 3px 1px rgba(60, 64, 67, 0.15);\n",
              "      fill: #174EA6;\n",
              "    }\n",
              "\n",
              "    [theme=dark] .colab-df-convert {\n",
              "      background-color: #3B4455;\n",
              "      fill: #D2E3FC;\n",
              "    }\n",
              "\n",
              "    [theme=dark] .colab-df-convert:hover {\n",
              "      background-color: #434B5C;\n",
              "      box-shadow: 0px 1px 3px 1px rgba(0, 0, 0, 0.15);\n",
              "      filter: drop-shadow(0px 1px 2px rgba(0, 0, 0, 0.3));\n",
              "      fill: #FFFFFF;\n",
              "    }\n",
              "  </style>\n",
              "\n",
              "      <script>\n",
              "        const buttonEl =\n",
              "          document.querySelector('#df-9eaa0075-b957-4157-a8d9-9b7003b638e9 button.colab-df-convert');\n",
              "        buttonEl.style.display =\n",
              "          google.colab.kernel.accessAllowed ? 'block' : 'none';\n",
              "\n",
              "        async function convertToInteractive(key) {\n",
              "          const element = document.querySelector('#df-9eaa0075-b957-4157-a8d9-9b7003b638e9');\n",
              "          const dataTable =\n",
              "            await google.colab.kernel.invokeFunction('convertToInteractive',\n",
              "                                                     [key], {});\n",
              "          if (!dataTable) return;\n",
              "\n",
              "          const docLinkHtml = 'Like what you see? Visit the ' +\n",
              "            '<a target=\"_blank\" href=https://colab.research.google.com/notebooks/data_table.ipynb>data table notebook</a>'\n",
              "            + ' to learn more about interactive tables.';\n",
              "          element.innerHTML = '';\n",
              "          dataTable['output_type'] = 'display_data';\n",
              "          await google.colab.output.renderOutput(dataTable, element);\n",
              "          const docLink = document.createElement('div');\n",
              "          docLink.innerHTML = docLinkHtml;\n",
              "          element.appendChild(docLink);\n",
              "        }\n",
              "      </script>\n",
              "    </div>\n",
              "  </div>\n",
              "  "
            ]
          },
          "metadata": {},
          "execution_count": 128
        }
      ]
    },
    {
      "cell_type": "code",
      "source": [
        "raw_data.shape"
      ],
      "metadata": {
        "colab": {
          "base_uri": "https://localhost:8080/"
        },
        "id": "BmdyFqoVt0jw",
        "outputId": "1c6cbe89-9fca-49c9-e901-67a1d4b13e26"
      },
      "execution_count": null,
      "outputs": [
        {
          "output_type": "execute_result",
          "data": {
            "text/plain": [
              "(10886, 12)"
            ]
          },
          "metadata": {},
          "execution_count": 129
        }
      ]
    },
    {
      "cell_type": "markdown",
      "source": [
        "We have 12 columns and 10886 rows (data points)."
      ],
      "metadata": {
        "id": "1U5jmRKVt3tJ"
      }
    },
    {
      "cell_type": "code",
      "source": [
        "raw_data.info()"
      ],
      "metadata": {
        "colab": {
          "base_uri": "https://localhost:8080/"
        },
        "id": "qU_jLgFVpKhY",
        "outputId": "3651ee67-2b79-4920-ebbb-69a30c5fb0e3"
      },
      "execution_count": null,
      "outputs": [
        {
          "output_type": "stream",
          "name": "stdout",
          "text": [
            "<class 'pandas.core.frame.DataFrame'>\n",
            "RangeIndex: 10886 entries, 0 to 10885\n",
            "Data columns (total 12 columns):\n",
            " #   Column      Non-Null Count  Dtype  \n",
            "---  ------      --------------  -----  \n",
            " 0   datetime    10886 non-null  object \n",
            " 1   season      10886 non-null  int64  \n",
            " 2   holiday     10886 non-null  int64  \n",
            " 3   workingday  10886 non-null  int64  \n",
            " 4   weather     10886 non-null  int64  \n",
            " 5   temp        10886 non-null  float64\n",
            " 6   atemp       10886 non-null  float64\n",
            " 7   humidity    10886 non-null  int64  \n",
            " 8   windspeed   10886 non-null  float64\n",
            " 9   casual      10886 non-null  int64  \n",
            " 10  registered  10886 non-null  int64  \n",
            " 11  count       10886 non-null  int64  \n",
            "dtypes: float64(3), int64(8), object(1)\n",
            "memory usage: 1020.7+ KB\n"
          ]
        }
      ]
    },
    {
      "cell_type": "markdown",
      "source": [
        "We can observe that for columns like season, holiday, workingday and weather should be categorical variable but it is defined as numerical.\n",
        "So we will change dtype for these columns to object.\n",
        "\n",
        "We can also observe that the datetime columns is in object type while it should be in datetime data type.\n",
        "\n",
        "There are no null value present in given data."
      ],
      "metadata": {
        "id": "F85kA7bWpWkf"
      }
    },
    {
      "cell_type": "code",
      "source": [
        "raw_data['season'] = raw_data['season'].astype('object')\n",
        "raw_data['holiday'] = raw_data['holiday'].astype('object')\n",
        "raw_data['workingday'] = raw_data['workingday'].astype('object')\n",
        "raw_data['weather'] = raw_data['weather'].astype('object')\n",
        "raw_data['datetime'] = pd.to_datetime(raw_data['datetime'])"
      ],
      "metadata": {
        "id": "FiQ_SLxuqp6L"
      },
      "execution_count": null,
      "outputs": []
    },
    {
      "cell_type": "markdown",
      "source": [
        "Let's create a time and date columns for better analysis."
      ],
      "metadata": {
        "id": "cVDs_3LH7uhP"
      }
    },
    {
      "cell_type": "code",
      "source": [
        "raw_data['Time']  = raw_data['datetime'].dt.strftime('%H:%M')"
      ],
      "metadata": {
        "id": "uYZyvfbYkmgH"
      },
      "execution_count": null,
      "outputs": []
    },
    {
      "cell_type": "code",
      "source": [
        "raw_data['date'] = raw_data['datetime'].dt.date"
      ],
      "metadata": {
        "id": "1uPnDm2DM-kf"
      },
      "execution_count": null,
      "outputs": []
    },
    {
      "cell_type": "code",
      "source": [
        "raw_data.columns"
      ],
      "metadata": {
        "colab": {
          "base_uri": "https://localhost:8080/"
        },
        "id": "j02K4O_S8jb1",
        "outputId": "6504294a-f440-466a-df8d-924cbc71bfcd"
      },
      "execution_count": null,
      "outputs": [
        {
          "output_type": "execute_result",
          "data": {
            "text/plain": [
              "Index(['datetime', 'season', 'holiday', 'workingday', 'weather', 'temp',\n",
              "       'atemp', 'humidity', 'windspeed', 'casual', 'registered', 'count',\n",
              "       'Time', 'date'],\n",
              "      dtype='object')"
            ]
          },
          "metadata": {},
          "execution_count": 134
        }
      ]
    },
    {
      "cell_type": "code",
      "source": [
        "#rearrange for better visualization/understanding.\n",
        "raw_data = raw_data[['datetime','date', 'Time', 'season', 'holiday', 'workingday', 'weather', 'temp',\n",
        "       'atemp', 'humidity', 'windspeed', 'casual', 'registered', 'count' ]]\n",
        "raw_data.head(5)"
      ],
      "metadata": {
        "colab": {
          "base_uri": "https://localhost:8080/",
          "height": 444
        },
        "id": "elbTWj9sN10M",
        "outputId": "ed6085db-bea3-4c36-9ffe-41b7980e50ac"
      },
      "execution_count": null,
      "outputs": [
        {
          "output_type": "execute_result",
          "data": {
            "text/plain": [
              "             datetime        date   Time season holiday workingday weather  \\\n",
              "0 2011-01-01 00:00:00  2011-01-01  00:00      1       0          0       1   \n",
              "1 2011-01-01 01:00:00  2011-01-01  01:00      1       0          0       1   \n",
              "2 2011-01-01 02:00:00  2011-01-01  02:00      1       0          0       1   \n",
              "3 2011-01-01 03:00:00  2011-01-01  03:00      1       0          0       1   \n",
              "4 2011-01-01 04:00:00  2011-01-01  04:00      1       0          0       1   \n",
              "\n",
              "   temp   atemp  humidity  windspeed  casual  registered  count  \n",
              "0  9.84  14.395        81        0.0       3          13     16  \n",
              "1  9.02  13.635        80        0.0       8          32     40  \n",
              "2  9.02  13.635        80        0.0       5          27     32  \n",
              "3  9.84  14.395        75        0.0       3          10     13  \n",
              "4  9.84  14.395        75        0.0       0           1      1  "
            ],
            "text/html": [
              "\n",
              "  <div id=\"df-3e701c40-0f42-453b-a731-3c3bc7a53f09\">\n",
              "    <div class=\"colab-df-container\">\n",
              "      <div>\n",
              "<style scoped>\n",
              "    .dataframe tbody tr th:only-of-type {\n",
              "        vertical-align: middle;\n",
              "    }\n",
              "\n",
              "    .dataframe tbody tr th {\n",
              "        vertical-align: top;\n",
              "    }\n",
              "\n",
              "    .dataframe thead th {\n",
              "        text-align: right;\n",
              "    }\n",
              "</style>\n",
              "<table border=\"1\" class=\"dataframe\">\n",
              "  <thead>\n",
              "    <tr style=\"text-align: right;\">\n",
              "      <th></th>\n",
              "      <th>datetime</th>\n",
              "      <th>date</th>\n",
              "      <th>Time</th>\n",
              "      <th>season</th>\n",
              "      <th>holiday</th>\n",
              "      <th>workingday</th>\n",
              "      <th>weather</th>\n",
              "      <th>temp</th>\n",
              "      <th>atemp</th>\n",
              "      <th>humidity</th>\n",
              "      <th>windspeed</th>\n",
              "      <th>casual</th>\n",
              "      <th>registered</th>\n",
              "      <th>count</th>\n",
              "    </tr>\n",
              "  </thead>\n",
              "  <tbody>\n",
              "    <tr>\n",
              "      <th>0</th>\n",
              "      <td>2011-01-01 00:00:00</td>\n",
              "      <td>2011-01-01</td>\n",
              "      <td>00:00</td>\n",
              "      <td>1</td>\n",
              "      <td>0</td>\n",
              "      <td>0</td>\n",
              "      <td>1</td>\n",
              "      <td>9.84</td>\n",
              "      <td>14.395</td>\n",
              "      <td>81</td>\n",
              "      <td>0.0</td>\n",
              "      <td>3</td>\n",
              "      <td>13</td>\n",
              "      <td>16</td>\n",
              "    </tr>\n",
              "    <tr>\n",
              "      <th>1</th>\n",
              "      <td>2011-01-01 01:00:00</td>\n",
              "      <td>2011-01-01</td>\n",
              "      <td>01:00</td>\n",
              "      <td>1</td>\n",
              "      <td>0</td>\n",
              "      <td>0</td>\n",
              "      <td>1</td>\n",
              "      <td>9.02</td>\n",
              "      <td>13.635</td>\n",
              "      <td>80</td>\n",
              "      <td>0.0</td>\n",
              "      <td>8</td>\n",
              "      <td>32</td>\n",
              "      <td>40</td>\n",
              "    </tr>\n",
              "    <tr>\n",
              "      <th>2</th>\n",
              "      <td>2011-01-01 02:00:00</td>\n",
              "      <td>2011-01-01</td>\n",
              "      <td>02:00</td>\n",
              "      <td>1</td>\n",
              "      <td>0</td>\n",
              "      <td>0</td>\n",
              "      <td>1</td>\n",
              "      <td>9.02</td>\n",
              "      <td>13.635</td>\n",
              "      <td>80</td>\n",
              "      <td>0.0</td>\n",
              "      <td>5</td>\n",
              "      <td>27</td>\n",
              "      <td>32</td>\n",
              "    </tr>\n",
              "    <tr>\n",
              "      <th>3</th>\n",
              "      <td>2011-01-01 03:00:00</td>\n",
              "      <td>2011-01-01</td>\n",
              "      <td>03:00</td>\n",
              "      <td>1</td>\n",
              "      <td>0</td>\n",
              "      <td>0</td>\n",
              "      <td>1</td>\n",
              "      <td>9.84</td>\n",
              "      <td>14.395</td>\n",
              "      <td>75</td>\n",
              "      <td>0.0</td>\n",
              "      <td>3</td>\n",
              "      <td>10</td>\n",
              "      <td>13</td>\n",
              "    </tr>\n",
              "    <tr>\n",
              "      <th>4</th>\n",
              "      <td>2011-01-01 04:00:00</td>\n",
              "      <td>2011-01-01</td>\n",
              "      <td>04:00</td>\n",
              "      <td>1</td>\n",
              "      <td>0</td>\n",
              "      <td>0</td>\n",
              "      <td>1</td>\n",
              "      <td>9.84</td>\n",
              "      <td>14.395</td>\n",
              "      <td>75</td>\n",
              "      <td>0.0</td>\n",
              "      <td>0</td>\n",
              "      <td>1</td>\n",
              "      <td>1</td>\n",
              "    </tr>\n",
              "  </tbody>\n",
              "</table>\n",
              "</div>\n",
              "      <button class=\"colab-df-convert\" onclick=\"convertToInteractive('df-3e701c40-0f42-453b-a731-3c3bc7a53f09')\"\n",
              "              title=\"Convert this dataframe to an interactive table.\"\n",
              "              style=\"display:none;\">\n",
              "        \n",
              "  <svg xmlns=\"http://www.w3.org/2000/svg\" height=\"24px\"viewBox=\"0 0 24 24\"\n",
              "       width=\"24px\">\n",
              "    <path d=\"M0 0h24v24H0V0z\" fill=\"none\"/>\n",
              "    <path d=\"M18.56 5.44l.94 2.06.94-2.06 2.06-.94-2.06-.94-.94-2.06-.94 2.06-2.06.94zm-11 1L8.5 8.5l.94-2.06 2.06-.94-2.06-.94L8.5 2.5l-.94 2.06-2.06.94zm10 10l.94 2.06.94-2.06 2.06-.94-2.06-.94-.94-2.06-.94 2.06-2.06.94z\"/><path d=\"M17.41 7.96l-1.37-1.37c-.4-.4-.92-.59-1.43-.59-.52 0-1.04.2-1.43.59L10.3 9.45l-7.72 7.72c-.78.78-.78 2.05 0 2.83L4 21.41c.39.39.9.59 1.41.59.51 0 1.02-.2 1.41-.59l7.78-7.78 2.81-2.81c.8-.78.8-2.07 0-2.86zM5.41 20L4 18.59l7.72-7.72 1.47 1.35L5.41 20z\"/>\n",
              "  </svg>\n",
              "      </button>\n",
              "      \n",
              "  <style>\n",
              "    .colab-df-container {\n",
              "      display:flex;\n",
              "      flex-wrap:wrap;\n",
              "      gap: 12px;\n",
              "    }\n",
              "\n",
              "    .colab-df-convert {\n",
              "      background-color: #E8F0FE;\n",
              "      border: none;\n",
              "      border-radius: 50%;\n",
              "      cursor: pointer;\n",
              "      display: none;\n",
              "      fill: #1967D2;\n",
              "      height: 32px;\n",
              "      padding: 0 0 0 0;\n",
              "      width: 32px;\n",
              "    }\n",
              "\n",
              "    .colab-df-convert:hover {\n",
              "      background-color: #E2EBFA;\n",
              "      box-shadow: 0px 1px 2px rgba(60, 64, 67, 0.3), 0px 1px 3px 1px rgba(60, 64, 67, 0.15);\n",
              "      fill: #174EA6;\n",
              "    }\n",
              "\n",
              "    [theme=dark] .colab-df-convert {\n",
              "      background-color: #3B4455;\n",
              "      fill: #D2E3FC;\n",
              "    }\n",
              "\n",
              "    [theme=dark] .colab-df-convert:hover {\n",
              "      background-color: #434B5C;\n",
              "      box-shadow: 0px 1px 3px 1px rgba(0, 0, 0, 0.15);\n",
              "      filter: drop-shadow(0px 1px 2px rgba(0, 0, 0, 0.3));\n",
              "      fill: #FFFFFF;\n",
              "    }\n",
              "  </style>\n",
              "\n",
              "      <script>\n",
              "        const buttonEl =\n",
              "          document.querySelector('#df-3e701c40-0f42-453b-a731-3c3bc7a53f09 button.colab-df-convert');\n",
              "        buttonEl.style.display =\n",
              "          google.colab.kernel.accessAllowed ? 'block' : 'none';\n",
              "\n",
              "        async function convertToInteractive(key) {\n",
              "          const element = document.querySelector('#df-3e701c40-0f42-453b-a731-3c3bc7a53f09');\n",
              "          const dataTable =\n",
              "            await google.colab.kernel.invokeFunction('convertToInteractive',\n",
              "                                                     [key], {});\n",
              "          if (!dataTable) return;\n",
              "\n",
              "          const docLinkHtml = 'Like what you see? Visit the ' +\n",
              "            '<a target=\"_blank\" href=https://colab.research.google.com/notebooks/data_table.ipynb>data table notebook</a>'\n",
              "            + ' to learn more about interactive tables.';\n",
              "          element.innerHTML = '';\n",
              "          dataTable['output_type'] = 'display_data';\n",
              "          await google.colab.output.renderOutput(dataTable, element);\n",
              "          const docLink = document.createElement('div');\n",
              "          docLink.innerHTML = docLinkHtml;\n",
              "          element.appendChild(docLink);\n",
              "        }\n",
              "      </script>\n",
              "    </div>\n",
              "  </div>\n",
              "  "
            ]
          },
          "metadata": {},
          "execution_count": 135
        }
      ]
    },
    {
      "cell_type": "code",
      "source": [
        "raw_data.nunique()"
      ],
      "metadata": {
        "colab": {
          "base_uri": "https://localhost:8080/"
        },
        "id": "F8cMVkB1Mvoa",
        "outputId": "66a41b90-b9bc-4151-9f2e-79597b06ebd2"
      },
      "execution_count": null,
      "outputs": [
        {
          "output_type": "execute_result",
          "data": {
            "text/plain": [
              "datetime      10886\n",
              "date            456\n",
              "Time             24\n",
              "season            4\n",
              "holiday           2\n",
              "workingday        2\n",
              "weather           4\n",
              "temp             49\n",
              "atemp            60\n",
              "humidity         89\n",
              "windspeed        28\n",
              "casual          309\n",
              "registered      731\n",
              "count           822\n",
              "dtype: int64"
            ]
          },
          "metadata": {},
          "execution_count": 136
        }
      ]
    },
    {
      "cell_type": "code",
      "source": [
        "raw_data.describe(include='all')"
      ],
      "metadata": {
        "colab": {
          "base_uri": "https://localhost:8080/",
          "height": 660
        },
        "id": "el1CuwNHka46",
        "outputId": "d013a9b3-9f77-4bc1-aaba-66647304d76d"
      },
      "execution_count": null,
      "outputs": [
        {
          "output_type": "stream",
          "name": "stderr",
          "text": [
            "/usr/local/lib/python3.7/dist-packages/ipykernel_launcher.py:1: FutureWarning: Treating datetime data as categorical rather than numeric in `.describe` is deprecated and will be removed in a future version of pandas. Specify `datetime_is_numeric=True` to silence this warning and adopt the future behavior now.\n",
            "  \"\"\"Entry point for launching an IPython kernel.\n"
          ]
        },
        {
          "output_type": "execute_result",
          "data": {
            "text/plain": [
              "                   datetime        date   Time   season  holiday  workingday  \\\n",
              "count                 10886       10886  10886  10886.0  10886.0     10886.0   \n",
              "unique                10886         456     24      4.0      2.0         2.0   \n",
              "top     2011-01-01 00:00:00  2011-01-01  12:00      4.0      0.0         1.0   \n",
              "freq                      1          24    456   2734.0  10575.0      7412.0   \n",
              "first   2011-01-01 00:00:00         NaN    NaN      NaN      NaN         NaN   \n",
              "last    2012-12-19 23:00:00         NaN    NaN      NaN      NaN         NaN   \n",
              "mean                    NaN         NaN    NaN      NaN      NaN         NaN   \n",
              "std                     NaN         NaN    NaN      NaN      NaN         NaN   \n",
              "min                     NaN         NaN    NaN      NaN      NaN         NaN   \n",
              "25%                     NaN         NaN    NaN      NaN      NaN         NaN   \n",
              "50%                     NaN         NaN    NaN      NaN      NaN         NaN   \n",
              "75%                     NaN         NaN    NaN      NaN      NaN         NaN   \n",
              "max                     NaN         NaN    NaN      NaN      NaN         NaN   \n",
              "\n",
              "        weather         temp         atemp      humidity     windspeed  \\\n",
              "count   10886.0  10886.00000  10886.000000  10886.000000  10886.000000   \n",
              "unique      4.0          NaN           NaN           NaN           NaN   \n",
              "top         1.0          NaN           NaN           NaN           NaN   \n",
              "freq     7192.0          NaN           NaN           NaN           NaN   \n",
              "first       NaN          NaN           NaN           NaN           NaN   \n",
              "last        NaN          NaN           NaN           NaN           NaN   \n",
              "mean        NaN     20.23086     23.655084     61.886460     12.799395   \n",
              "std         NaN      7.79159      8.474601     19.245033      8.164537   \n",
              "min         NaN      0.82000      0.760000      0.000000      0.000000   \n",
              "25%         NaN     13.94000     16.665000     47.000000      7.001500   \n",
              "50%         NaN     20.50000     24.240000     62.000000     12.998000   \n",
              "75%         NaN     26.24000     31.060000     77.000000     16.997900   \n",
              "max         NaN     41.00000     45.455000    100.000000     56.996900   \n",
              "\n",
              "              casual    registered         count  \n",
              "count   10886.000000  10886.000000  10886.000000  \n",
              "unique           NaN           NaN           NaN  \n",
              "top              NaN           NaN           NaN  \n",
              "freq             NaN           NaN           NaN  \n",
              "first            NaN           NaN           NaN  \n",
              "last             NaN           NaN           NaN  \n",
              "mean       36.021955    155.552177    191.574132  \n",
              "std        49.960477    151.039033    181.144454  \n",
              "min         0.000000      0.000000      1.000000  \n",
              "25%         4.000000     36.000000     42.000000  \n",
              "50%        17.000000    118.000000    145.000000  \n",
              "75%        49.000000    222.000000    284.000000  \n",
              "max       367.000000    886.000000    977.000000  "
            ],
            "text/html": [
              "\n",
              "  <div id=\"df-5307b901-d68c-4298-8a86-edb3a80a9492\">\n",
              "    <div class=\"colab-df-container\">\n",
              "      <div>\n",
              "<style scoped>\n",
              "    .dataframe tbody tr th:only-of-type {\n",
              "        vertical-align: middle;\n",
              "    }\n",
              "\n",
              "    .dataframe tbody tr th {\n",
              "        vertical-align: top;\n",
              "    }\n",
              "\n",
              "    .dataframe thead th {\n",
              "        text-align: right;\n",
              "    }\n",
              "</style>\n",
              "<table border=\"1\" class=\"dataframe\">\n",
              "  <thead>\n",
              "    <tr style=\"text-align: right;\">\n",
              "      <th></th>\n",
              "      <th>datetime</th>\n",
              "      <th>date</th>\n",
              "      <th>Time</th>\n",
              "      <th>season</th>\n",
              "      <th>holiday</th>\n",
              "      <th>workingday</th>\n",
              "      <th>weather</th>\n",
              "      <th>temp</th>\n",
              "      <th>atemp</th>\n",
              "      <th>humidity</th>\n",
              "      <th>windspeed</th>\n",
              "      <th>casual</th>\n",
              "      <th>registered</th>\n",
              "      <th>count</th>\n",
              "    </tr>\n",
              "  </thead>\n",
              "  <tbody>\n",
              "    <tr>\n",
              "      <th>count</th>\n",
              "      <td>10886</td>\n",
              "      <td>10886</td>\n",
              "      <td>10886</td>\n",
              "      <td>10886.0</td>\n",
              "      <td>10886.0</td>\n",
              "      <td>10886.0</td>\n",
              "      <td>10886.0</td>\n",
              "      <td>10886.00000</td>\n",
              "      <td>10886.000000</td>\n",
              "      <td>10886.000000</td>\n",
              "      <td>10886.000000</td>\n",
              "      <td>10886.000000</td>\n",
              "      <td>10886.000000</td>\n",
              "      <td>10886.000000</td>\n",
              "    </tr>\n",
              "    <tr>\n",
              "      <th>unique</th>\n",
              "      <td>10886</td>\n",
              "      <td>456</td>\n",
              "      <td>24</td>\n",
              "      <td>4.0</td>\n",
              "      <td>2.0</td>\n",
              "      <td>2.0</td>\n",
              "      <td>4.0</td>\n",
              "      <td>NaN</td>\n",
              "      <td>NaN</td>\n",
              "      <td>NaN</td>\n",
              "      <td>NaN</td>\n",
              "      <td>NaN</td>\n",
              "      <td>NaN</td>\n",
              "      <td>NaN</td>\n",
              "    </tr>\n",
              "    <tr>\n",
              "      <th>top</th>\n",
              "      <td>2011-01-01 00:00:00</td>\n",
              "      <td>2011-01-01</td>\n",
              "      <td>12:00</td>\n",
              "      <td>4.0</td>\n",
              "      <td>0.0</td>\n",
              "      <td>1.0</td>\n",
              "      <td>1.0</td>\n",
              "      <td>NaN</td>\n",
              "      <td>NaN</td>\n",
              "      <td>NaN</td>\n",
              "      <td>NaN</td>\n",
              "      <td>NaN</td>\n",
              "      <td>NaN</td>\n",
              "      <td>NaN</td>\n",
              "    </tr>\n",
              "    <tr>\n",
              "      <th>freq</th>\n",
              "      <td>1</td>\n",
              "      <td>24</td>\n",
              "      <td>456</td>\n",
              "      <td>2734.0</td>\n",
              "      <td>10575.0</td>\n",
              "      <td>7412.0</td>\n",
              "      <td>7192.0</td>\n",
              "      <td>NaN</td>\n",
              "      <td>NaN</td>\n",
              "      <td>NaN</td>\n",
              "      <td>NaN</td>\n",
              "      <td>NaN</td>\n",
              "      <td>NaN</td>\n",
              "      <td>NaN</td>\n",
              "    </tr>\n",
              "    <tr>\n",
              "      <th>first</th>\n",
              "      <td>2011-01-01 00:00:00</td>\n",
              "      <td>NaN</td>\n",
              "      <td>NaN</td>\n",
              "      <td>NaN</td>\n",
              "      <td>NaN</td>\n",
              "      <td>NaN</td>\n",
              "      <td>NaN</td>\n",
              "      <td>NaN</td>\n",
              "      <td>NaN</td>\n",
              "      <td>NaN</td>\n",
              "      <td>NaN</td>\n",
              "      <td>NaN</td>\n",
              "      <td>NaN</td>\n",
              "      <td>NaN</td>\n",
              "    </tr>\n",
              "    <tr>\n",
              "      <th>last</th>\n",
              "      <td>2012-12-19 23:00:00</td>\n",
              "      <td>NaN</td>\n",
              "      <td>NaN</td>\n",
              "      <td>NaN</td>\n",
              "      <td>NaN</td>\n",
              "      <td>NaN</td>\n",
              "      <td>NaN</td>\n",
              "      <td>NaN</td>\n",
              "      <td>NaN</td>\n",
              "      <td>NaN</td>\n",
              "      <td>NaN</td>\n",
              "      <td>NaN</td>\n",
              "      <td>NaN</td>\n",
              "      <td>NaN</td>\n",
              "    </tr>\n",
              "    <tr>\n",
              "      <th>mean</th>\n",
              "      <td>NaN</td>\n",
              "      <td>NaN</td>\n",
              "      <td>NaN</td>\n",
              "      <td>NaN</td>\n",
              "      <td>NaN</td>\n",
              "      <td>NaN</td>\n",
              "      <td>NaN</td>\n",
              "      <td>20.23086</td>\n",
              "      <td>23.655084</td>\n",
              "      <td>61.886460</td>\n",
              "      <td>12.799395</td>\n",
              "      <td>36.021955</td>\n",
              "      <td>155.552177</td>\n",
              "      <td>191.574132</td>\n",
              "    </tr>\n",
              "    <tr>\n",
              "      <th>std</th>\n",
              "      <td>NaN</td>\n",
              "      <td>NaN</td>\n",
              "      <td>NaN</td>\n",
              "      <td>NaN</td>\n",
              "      <td>NaN</td>\n",
              "      <td>NaN</td>\n",
              "      <td>NaN</td>\n",
              "      <td>7.79159</td>\n",
              "      <td>8.474601</td>\n",
              "      <td>19.245033</td>\n",
              "      <td>8.164537</td>\n",
              "      <td>49.960477</td>\n",
              "      <td>151.039033</td>\n",
              "      <td>181.144454</td>\n",
              "    </tr>\n",
              "    <tr>\n",
              "      <th>min</th>\n",
              "      <td>NaN</td>\n",
              "      <td>NaN</td>\n",
              "      <td>NaN</td>\n",
              "      <td>NaN</td>\n",
              "      <td>NaN</td>\n",
              "      <td>NaN</td>\n",
              "      <td>NaN</td>\n",
              "      <td>0.82000</td>\n",
              "      <td>0.760000</td>\n",
              "      <td>0.000000</td>\n",
              "      <td>0.000000</td>\n",
              "      <td>0.000000</td>\n",
              "      <td>0.000000</td>\n",
              "      <td>1.000000</td>\n",
              "    </tr>\n",
              "    <tr>\n",
              "      <th>25%</th>\n",
              "      <td>NaN</td>\n",
              "      <td>NaN</td>\n",
              "      <td>NaN</td>\n",
              "      <td>NaN</td>\n",
              "      <td>NaN</td>\n",
              "      <td>NaN</td>\n",
              "      <td>NaN</td>\n",
              "      <td>13.94000</td>\n",
              "      <td>16.665000</td>\n",
              "      <td>47.000000</td>\n",
              "      <td>7.001500</td>\n",
              "      <td>4.000000</td>\n",
              "      <td>36.000000</td>\n",
              "      <td>42.000000</td>\n",
              "    </tr>\n",
              "    <tr>\n",
              "      <th>50%</th>\n",
              "      <td>NaN</td>\n",
              "      <td>NaN</td>\n",
              "      <td>NaN</td>\n",
              "      <td>NaN</td>\n",
              "      <td>NaN</td>\n",
              "      <td>NaN</td>\n",
              "      <td>NaN</td>\n",
              "      <td>20.50000</td>\n",
              "      <td>24.240000</td>\n",
              "      <td>62.000000</td>\n",
              "      <td>12.998000</td>\n",
              "      <td>17.000000</td>\n",
              "      <td>118.000000</td>\n",
              "      <td>145.000000</td>\n",
              "    </tr>\n",
              "    <tr>\n",
              "      <th>75%</th>\n",
              "      <td>NaN</td>\n",
              "      <td>NaN</td>\n",
              "      <td>NaN</td>\n",
              "      <td>NaN</td>\n",
              "      <td>NaN</td>\n",
              "      <td>NaN</td>\n",
              "      <td>NaN</td>\n",
              "      <td>26.24000</td>\n",
              "      <td>31.060000</td>\n",
              "      <td>77.000000</td>\n",
              "      <td>16.997900</td>\n",
              "      <td>49.000000</td>\n",
              "      <td>222.000000</td>\n",
              "      <td>284.000000</td>\n",
              "    </tr>\n",
              "    <tr>\n",
              "      <th>max</th>\n",
              "      <td>NaN</td>\n",
              "      <td>NaN</td>\n",
              "      <td>NaN</td>\n",
              "      <td>NaN</td>\n",
              "      <td>NaN</td>\n",
              "      <td>NaN</td>\n",
              "      <td>NaN</td>\n",
              "      <td>41.00000</td>\n",
              "      <td>45.455000</td>\n",
              "      <td>100.000000</td>\n",
              "      <td>56.996900</td>\n",
              "      <td>367.000000</td>\n",
              "      <td>886.000000</td>\n",
              "      <td>977.000000</td>\n",
              "    </tr>\n",
              "  </tbody>\n",
              "</table>\n",
              "</div>\n",
              "      <button class=\"colab-df-convert\" onclick=\"convertToInteractive('df-5307b901-d68c-4298-8a86-edb3a80a9492')\"\n",
              "              title=\"Convert this dataframe to an interactive table.\"\n",
              "              style=\"display:none;\">\n",
              "        \n",
              "  <svg xmlns=\"http://www.w3.org/2000/svg\" height=\"24px\"viewBox=\"0 0 24 24\"\n",
              "       width=\"24px\">\n",
              "    <path d=\"M0 0h24v24H0V0z\" fill=\"none\"/>\n",
              "    <path d=\"M18.56 5.44l.94 2.06.94-2.06 2.06-.94-2.06-.94-.94-2.06-.94 2.06-2.06.94zm-11 1L8.5 8.5l.94-2.06 2.06-.94-2.06-.94L8.5 2.5l-.94 2.06-2.06.94zm10 10l.94 2.06.94-2.06 2.06-.94-2.06-.94-.94-2.06-.94 2.06-2.06.94z\"/><path d=\"M17.41 7.96l-1.37-1.37c-.4-.4-.92-.59-1.43-.59-.52 0-1.04.2-1.43.59L10.3 9.45l-7.72 7.72c-.78.78-.78 2.05 0 2.83L4 21.41c.39.39.9.59 1.41.59.51 0 1.02-.2 1.41-.59l7.78-7.78 2.81-2.81c.8-.78.8-2.07 0-2.86zM5.41 20L4 18.59l7.72-7.72 1.47 1.35L5.41 20z\"/>\n",
              "  </svg>\n",
              "      </button>\n",
              "      \n",
              "  <style>\n",
              "    .colab-df-container {\n",
              "      display:flex;\n",
              "      flex-wrap:wrap;\n",
              "      gap: 12px;\n",
              "    }\n",
              "\n",
              "    .colab-df-convert {\n",
              "      background-color: #E8F0FE;\n",
              "      border: none;\n",
              "      border-radius: 50%;\n",
              "      cursor: pointer;\n",
              "      display: none;\n",
              "      fill: #1967D2;\n",
              "      height: 32px;\n",
              "      padding: 0 0 0 0;\n",
              "      width: 32px;\n",
              "    }\n",
              "\n",
              "    .colab-df-convert:hover {\n",
              "      background-color: #E2EBFA;\n",
              "      box-shadow: 0px 1px 2px rgba(60, 64, 67, 0.3), 0px 1px 3px 1px rgba(60, 64, 67, 0.15);\n",
              "      fill: #174EA6;\n",
              "    }\n",
              "\n",
              "    [theme=dark] .colab-df-convert {\n",
              "      background-color: #3B4455;\n",
              "      fill: #D2E3FC;\n",
              "    }\n",
              "\n",
              "    [theme=dark] .colab-df-convert:hover {\n",
              "      background-color: #434B5C;\n",
              "      box-shadow: 0px 1px 3px 1px rgba(0, 0, 0, 0.15);\n",
              "      filter: drop-shadow(0px 1px 2px rgba(0, 0, 0, 0.3));\n",
              "      fill: #FFFFFF;\n",
              "    }\n",
              "  </style>\n",
              "\n",
              "      <script>\n",
              "        const buttonEl =\n",
              "          document.querySelector('#df-5307b901-d68c-4298-8a86-edb3a80a9492 button.colab-df-convert');\n",
              "        buttonEl.style.display =\n",
              "          google.colab.kernel.accessAllowed ? 'block' : 'none';\n",
              "\n",
              "        async function convertToInteractive(key) {\n",
              "          const element = document.querySelector('#df-5307b901-d68c-4298-8a86-edb3a80a9492');\n",
              "          const dataTable =\n",
              "            await google.colab.kernel.invokeFunction('convertToInteractive',\n",
              "                                                     [key], {});\n",
              "          if (!dataTable) return;\n",
              "\n",
              "          const docLinkHtml = 'Like what you see? Visit the ' +\n",
              "            '<a target=\"_blank\" href=https://colab.research.google.com/notebooks/data_table.ipynb>data table notebook</a>'\n",
              "            + ' to learn more about interactive tables.';\n",
              "          element.innerHTML = '';\n",
              "          dataTable['output_type'] = 'display_data';\n",
              "          await google.colab.output.renderOutput(dataTable, element);\n",
              "          const docLink = document.createElement('div');\n",
              "          docLink.innerHTML = docLinkHtml;\n",
              "          element.appendChild(docLink);\n",
              "        }\n",
              "      </script>\n",
              "    </div>\n",
              "  </div>\n",
              "  "
            ]
          },
          "metadata": {},
          "execution_count": 137
        }
      ]
    },
    {
      "cell_type": "markdown",
      "source": [
        "The given data is from 1st January, 2011 to 19th december, 2012. Data is for 456 days.\n",
        "\n",
        "Here, we can observe that, winter season data points are more in given data. Most of days are not hodilay and it's working day. Most of the data points are of clear weather.\n",
        "\n",
        "The temperature has ranged from 0.82 to 41 in degree celsius. The mean average temperature is 20.23 while the median is at 20.5 which means there are less (or no) outliers present in the data.\n",
        "\n",
        "People felt the average temperature to be 23 degree celsius.\n",
        "\n",
        "Humidity ranged from 0 to 100% and average humidity is 61% and median is 62% which means data is not skewed at any side.\n",
        "\n",
        "Wind speed ranged from 0 to 56.99 m/s.\n",
        "\n",
        "On an average 36 casual users use bike rent service hourly while it is 155 in case of registered user.\n",
        "\n",
        "Maximum casual users is 367 for an hour while it is 886 with registered user.\n",
        "\n",
        "On an average 191 people uses company_a services in an hour.\n"
      ],
      "metadata": {
        "id": "24s0BwGjYopR"
      }
    },
    {
      "cell_type": "markdown",
      "source": [
        "#Univariant Analysis"
      ],
      "metadata": {
        "id": "MRaJvamedOem"
      }
    },
    {
      "cell_type": "code",
      "source": [
        "raw_data['season'].value_counts()"
      ],
      "metadata": {
        "colab": {
          "base_uri": "https://localhost:8080/"
        },
        "id": "8gvmmMUXdTWW",
        "outputId": "75d337eb-a138-4719-edf1-9b0d6c991eac"
      },
      "execution_count": null,
      "outputs": [
        {
          "output_type": "execute_result",
          "data": {
            "text/plain": [
              "4    2734\n",
              "2    2733\n",
              "3    2733\n",
              "1    2686\n",
              "Name: season, dtype: int64"
            ]
          },
          "metadata": {},
          "execution_count": 138
        }
      ]
    },
    {
      "cell_type": "code",
      "source": [
        "sns.countplot(data = raw_data, x ='season')"
      ],
      "metadata": {
        "colab": {
          "base_uri": "https://localhost:8080/",
          "height": 296
        },
        "id": "raSMPXLj91AK",
        "outputId": "603da1ae-aeea-46a1-d65c-e49902171f68"
      },
      "execution_count": null,
      "outputs": [
        {
          "output_type": "execute_result",
          "data": {
            "text/plain": [
              "<matplotlib.axes._subplots.AxesSubplot at 0x7f431a511d10>"
            ]
          },
          "metadata": {},
          "execution_count": 139
        },
        {
          "output_type": "display_data",
          "data": {
            "text/plain": [
              "<Figure size 432x288 with 1 Axes>"
            ],
            "image/png": "[encoded data removed]"
          },
          "metadata": {
            "needs_background": "light"
          }
        }
      ]
    },
    {
      "cell_type": "markdown",
      "source": [
        "Number of data points are almost same for all the seasons."
      ],
      "metadata": {
        "id": "epWJiPtehO1I"
      }
    },
    {
      "cell_type": "code",
      "source": [
        "raw_data['holiday'].value_counts()"
      ],
      "metadata": {
        "colab": {
          "base_uri": "https://localhost:8080/"
        },
        "id": "bvjb_3tndctG",
        "outputId": "71f9e436-8ad2-4602-e876-d9706898ed14"
      },
      "execution_count": null,
      "outputs": [
        {
          "output_type": "execute_result",
          "data": {
            "text/plain": [
              "0    10575\n",
              "1      311\n",
              "Name: holiday, dtype: int64"
            ]
          },
          "metadata": {},
          "execution_count": 140
        }
      ]
    },
    {
      "cell_type": "code",
      "source": [
        "sns.countplot(data = raw_data, x = 'holiday')"
      ],
      "metadata": {
        "colab": {
          "base_uri": "https://localhost:8080/",
          "height": 296
        },
        "id": "OQaOG1OxHCUK",
        "outputId": "70f3442d-8c02-47bb-fb50-d7c1eb5152e4"
      },
      "execution_count": null,
      "outputs": [
        {
          "output_type": "execute_result",
          "data": {
            "text/plain": [
              "<matplotlib.axes._subplots.AxesSubplot at 0x7f431a4eec90>"
            ]
          },
          "metadata": {},
          "execution_count": 141
        },
        {
          "output_type": "display_data",
          "data": {
            "text/plain": [
              "<Figure size 432x288 with 1 Axes>"
            ],
            "image/png": "[encoded data removed]"
          },
          "metadata": {
            "needs_background": "light"
          }
        }
      ]
    },
    {
      "cell_type": "markdown",
      "source": [
        "10575 days are non holiday day while only 311 are with holiday."
      ],
      "metadata": {
        "id": "YLbIe-o2hYNZ"
      }
    },
    {
      "cell_type": "code",
      "source": [
        "raw_data['workingday'].value_counts()"
      ],
      "metadata": {
        "colab": {
          "base_uri": "https://localhost:8080/"
        },
        "id": "eIojLqOMdfl6",
        "outputId": "e9b68a37-23f5-4e8a-ebb6-1a0dc417a616"
      },
      "execution_count": null,
      "outputs": [
        {
          "output_type": "execute_result",
          "data": {
            "text/plain": [
              "1    7412\n",
              "0    3474\n",
              "Name: workingday, dtype: int64"
            ]
          },
          "metadata": {},
          "execution_count": 142
        }
      ]
    },
    {
      "cell_type": "code",
      "source": [
        "sns.countplot(data = raw_data, x = 'workingday')"
      ],
      "metadata": {
        "colab": {
          "base_uri": "https://localhost:8080/",
          "height": 296
        },
        "id": "woJ8_YIzHjCN",
        "outputId": "a7d33048-fa55-4e2f-efe6-a58db4dd8ad1"
      },
      "execution_count": null,
      "outputs": [
        {
          "output_type": "execute_result",
          "data": {
            "text/plain": [
              "<matplotlib.axes._subplots.AxesSubplot at 0x7f431a451090>"
            ]
          },
          "metadata": {},
          "execution_count": 143
        },
        {
          "output_type": "display_data",
          "data": {
            "text/plain": [
              "<Figure size 432x288 with 1 Axes>"
            ],
            "image/png": "[encoded data removed]"
          },
          "metadata": {
            "needs_background": "light"
          }
        }
      ]
    },
    {
      "cell_type": "markdown",
      "source": [
        "Most of the data points are for working day."
      ],
      "metadata": {
        "id": "_tl8F842hpwp"
      }
    },
    {
      "cell_type": "code",
      "source": [
        "raw_data['weather'].value_counts()"
      ],
      "metadata": {
        "colab": {
          "base_uri": "https://localhost:8080/"
        },
        "id": "kUqQ8F3jdk8c",
        "outputId": "99f06559-1181-4b74-f2c0-545809bf75b9"
      },
      "execution_count": null,
      "outputs": [
        {
          "output_type": "execute_result",
          "data": {
            "text/plain": [
              "1    7192\n",
              "2    2834\n",
              "3     859\n",
              "4       1\n",
              "Name: weather, dtype: int64"
            ]
          },
          "metadata": {},
          "execution_count": 144
        }
      ]
    },
    {
      "cell_type": "code",
      "source": [
        "sns.countplot(data = raw_data, x = 'weather')"
      ],
      "metadata": {
        "colab": {
          "base_uri": "https://localhost:8080/",
          "height": 296
        },
        "id": "vF1ilWTbH160",
        "outputId": "1d5e49db-2585-436c-edc3-e08b1a32227d"
      },
      "execution_count": null,
      "outputs": [
        {
          "output_type": "execute_result",
          "data": {
            "text/plain": [
              "<matplotlib.axes._subplots.AxesSubplot at 0x7f431a43bf10>"
            ]
          },
          "metadata": {},
          "execution_count": 145
        },
        {
          "output_type": "display_data",
          "data": {
            "text/plain": [
              "<Figure size 432x288 with 1 Axes>"
            ],
            "image/png": "[encoded data removed]"
          },
          "metadata": {
            "needs_background": "light"
          }
        }
      ]
    },
    {
      "cell_type": "markdown",
      "source": [
        "There is only one data point for 4th weather.\n",
        "Most of the time sky is clear."
      ],
      "metadata": {
        "id": "ugD9rJ2OhvgQ"
      }
    },
    {
      "cell_type": "code",
      "source": [
        "sns.boxplot(data = raw_data, x= 'temp')"
      ],
      "metadata": {
        "colab": {
          "base_uri": "https://localhost:8080/",
          "height": 296
        },
        "id": "MREyZQ62dpmm",
        "outputId": "1df35bb1-31a2-4340-b962-01c4a544aa7b"
      },
      "execution_count": null,
      "outputs": [
        {
          "output_type": "execute_result",
          "data": {
            "text/plain": [
              "<matplotlib.axes._subplots.AxesSubplot at 0x7f431a4399d0>"
            ]
          },
          "metadata": {},
          "execution_count": 146
        },
        {
          "output_type": "display_data",
          "data": {
            "text/plain": [
              "<Figure size 432x288 with 1 Axes>"
            ],
            "image/png": "[encoded data removed]"
          },
          "metadata": {
            "needs_background": "light"
          }
        }
      ]
    },
    {
      "cell_type": "code",
      "source": [
        "sns.histplot(raw_data['temp'])"
      ],
      "metadata": {
        "colab": {
          "base_uri": "https://localhost:8080/",
          "height": 296
        },
        "id": "i-wqYKMwImgQ",
        "outputId": "330b47e4-b834-4dea-dba9-1dfc4353eb3a"
      },
      "execution_count": null,
      "outputs": [
        {
          "output_type": "execute_result",
          "data": {
            "text/plain": [
              "<matplotlib.axes._subplots.AxesSubplot at 0x7f431a318b10>"
            ]
          },
          "metadata": {},
          "execution_count": 147
        },
        {
          "output_type": "display_data",
          "data": {
            "text/plain": [
              "<Figure size 432x288 with 1 Axes>"
            ],
            "image/png": "[encoded data removed]"
          },
          "metadata": {
            "needs_background": "light"
          }
        }
      ]
    },
    {
      "cell_type": "markdown",
      "source": [
        "50 % of the times temperature was between 13 to 26."
      ],
      "metadata": {
        "id": "-EDGecU2h7iE"
      }
    },
    {
      "cell_type": "code",
      "source": [
        "sns.boxplot(data = raw_data, x ='atemp')"
      ],
      "metadata": {
        "colab": {
          "base_uri": "https://localhost:8080/",
          "height": 296
        },
        "id": "StF_g2yydvXb",
        "outputId": "a54cb6b1-24db-4551-cd4d-3e57bbaef018"
      },
      "execution_count": null,
      "outputs": [
        {
          "output_type": "execute_result",
          "data": {
            "text/plain": [
              "<matplotlib.axes._subplots.AxesSubplot at 0x7f431a2cf250>"
            ]
          },
          "metadata": {},
          "execution_count": 148
        },
        {
          "output_type": "display_data",
          "data": {
            "text/plain": [
              "<Figure size 432x288 with 1 Axes>"
            ],
            "image/png": "[encoded data removed]"
          },
          "metadata": {
            "needs_background": "light"
          }
        }
      ]
    },
    {
      "cell_type": "code",
      "source": [
        "sns.histplot(raw_data['atemp'])"
      ],
      "metadata": {
        "colab": {
          "base_uri": "https://localhost:8080/",
          "height": 296
        },
        "id": "oAzLO4ohIuuq",
        "outputId": "eaecd0ef-7793-4660-833a-50538bbee788"
      },
      "execution_count": null,
      "outputs": [
        {
          "output_type": "execute_result",
          "data": {
            "text/plain": [
              "<matplotlib.axes._subplots.AxesSubplot at 0x7f431a1e1590>"
            ]
          },
          "metadata": {},
          "execution_count": 149
        },
        {
          "output_type": "display_data",
          "data": {
            "text/plain": [
              "<Figure size 432x288 with 1 Axes>"
            ],
            "image/png": "[encoded data removed]"
          },
          "metadata": {
            "needs_background": "light"
          }
        }
      ]
    },
    {
      "cell_type": "markdown",
      "source": [
        "50 % of the times temperature felt like 16 to 31."
      ],
      "metadata": {
        "id": "VEzoxHT3iKx_"
      }
    },
    {
      "cell_type": "code",
      "source": [
        "sns.boxplot(x = 'windspeed', data = raw_data)"
      ],
      "metadata": {
        "colab": {
          "base_uri": "https://localhost:8080/",
          "height": 296
        },
        "id": "lp4LGrI6d3NZ",
        "outputId": "8cc5c53b-c6ed-4628-bf71-ee5640089a8a"
      },
      "execution_count": null,
      "outputs": [
        {
          "output_type": "execute_result",
          "data": {
            "text/plain": [
              "<matplotlib.axes._subplots.AxesSubplot at 0x7f431a1ab690>"
            ]
          },
          "metadata": {},
          "execution_count": 150
        },
        {
          "output_type": "display_data",
          "data": {
            "text/plain": [
              "<Figure size 432x288 with 1 Axes>"
            ],
            "image/png": "[encoded data removed]"
          },
          "metadata": {
            "needs_background": "light"
          }
        }
      ]
    },
    {
      "cell_type": "code",
      "source": [
        "sns.histplot(raw_data['windspeed'])"
      ],
      "metadata": {
        "colab": {
          "base_uri": "https://localhost:8080/",
          "height": 296
        },
        "id": "0FVClP7UIxtj",
        "outputId": "c148b034-c5f7-4c56-9445-51140fec3821"
      },
      "execution_count": null,
      "outputs": [
        {
          "output_type": "execute_result",
          "data": {
            "text/plain": [
              "<matplotlib.axes._subplots.AxesSubplot at 0x7f431a092410>"
            ]
          },
          "metadata": {},
          "execution_count": 151
        },
        {
          "output_type": "display_data",
          "data": {
            "text/plain": [
              "<Figure size 432x288 with 1 Axes>"
            ],
            "image/png": "[encoded data removed]"
          },
          "metadata": {
            "needs_background": "light"
          }
        }
      ]
    },
    {
      "cell_type": "markdown",
      "source": [
        "Windspeed data is right skewed. A lot of outliers are present for windspeed."
      ],
      "metadata": {
        "id": "tsKbZksHiT-7"
      }
    },
    {
      "cell_type": "code",
      "source": [
        "sns.boxplot(data = raw_data, x = 'humidity')"
      ],
      "metadata": {
        "colab": {
          "base_uri": "https://localhost:8080/",
          "height": 296
        },
        "id": "8R-WENVHd-cU",
        "outputId": "bc4591e7-dd5d-4dae-9876-178fca13171f"
      },
      "execution_count": null,
      "outputs": [
        {
          "output_type": "execute_result",
          "data": {
            "text/plain": [
              "<matplotlib.axes._subplots.AxesSubplot at 0x7f4319f549d0>"
            ]
          },
          "metadata": {},
          "execution_count": 152
        },
        {
          "output_type": "display_data",
          "data": {
            "text/plain": [
              "<Figure size 432x288 with 1 Axes>"
            ],
            "image/png": "[encoded data removed]"
          },
          "metadata": {
            "needs_background": "light"
          }
        }
      ]
    },
    {
      "cell_type": "code",
      "source": [
        "sns.histplot(raw_data['humidity'])"
      ],
      "metadata": {
        "colab": {
          "base_uri": "https://localhost:8080/",
          "height": 296
        },
        "id": "58-uXix2I4B7",
        "outputId": "f8de92c7-a338-40d9-c14e-3c69b4371a1f"
      },
      "execution_count": null,
      "outputs": [
        {
          "output_type": "execute_result",
          "data": {
            "text/plain": [
              "<matplotlib.axes._subplots.AxesSubplot at 0x7f4319f342d0>"
            ]
          },
          "metadata": {},
          "execution_count": 153
        },
        {
          "output_type": "display_data",
          "data": {
            "text/plain": [
              "<Figure size 432x288 with 1 Axes>"
            ],
            "image/png": "[encoded data removed]"
          },
          "metadata": {
            "needs_background": "light"
          }
        }
      ]
    },
    {
      "cell_type": "markdown",
      "source": [
        "Hunidity data is left skewed data."
      ],
      "metadata": {
        "id": "QRCObx4Vidj8"
      }
    },
    {
      "cell_type": "code",
      "source": [
        "sns.boxplot(x = 'casual', data =raw_data)"
      ],
      "metadata": {
        "colab": {
          "base_uri": "https://localhost:8080/",
          "height": 296
        },
        "id": "HKRbBm4CeEC-",
        "outputId": "fcf53d04-b4ac-4d57-9d92-6e50e7b78669"
      },
      "execution_count": null,
      "outputs": [
        {
          "output_type": "execute_result",
          "data": {
            "text/plain": [
              "<matplotlib.axes._subplots.AxesSubplot at 0x7f4319eac750>"
            ]
          },
          "metadata": {},
          "execution_count": 154
        },
        {
          "output_type": "display_data",
          "data": {
            "text/plain": [
              "<Figure size 432x288 with 1 Axes>"
            ],
            "image/png": "[encoded data removed]"
          },
          "metadata": {
            "needs_background": "light"
          }
        }
      ]
    },
    {
      "cell_type": "code",
      "source": [
        "sns.histplot(raw_data['casual'])"
      ],
      "metadata": {
        "colab": {
          "base_uri": "https://localhost:8080/",
          "height": 296
        },
        "id": "HW5TZdb9JBKJ",
        "outputId": "c59c7afd-95f1-46cd-99dc-569ddab5cb01"
      },
      "execution_count": null,
      "outputs": [
        {
          "output_type": "execute_result",
          "data": {
            "text/plain": [
              "<matplotlib.axes._subplots.AxesSubplot at 0x7f4319df6690>"
            ]
          },
          "metadata": {},
          "execution_count": 155
        },
        {
          "output_type": "display_data",
          "data": {
            "text/plain": [
              "<Figure size 432x288 with 1 Axes>"
            ],
            "image/png": "[encoded data removed]"
          },
          "metadata": {
            "needs_background": "light"
          }
        }
      ]
    },
    {
      "cell_type": "code",
      "source": [
        "sns.boxplot(x = 'registered', data = raw_data)"
      ],
      "metadata": {
        "colab": {
          "base_uri": "https://localhost:8080/",
          "height": 296
        },
        "id": "kdnw6z9teOir",
        "outputId": "4d8f5c47-3b2a-4a0d-dfe8-28c6f94e575b"
      },
      "execution_count": null,
      "outputs": [
        {
          "output_type": "execute_result",
          "data": {
            "text/plain": [
              "<matplotlib.axes._subplots.AxesSubplot at 0x7f431dd025d0>"
            ]
          },
          "metadata": {},
          "execution_count": 156
        },
        {
          "output_type": "display_data",
          "data": {
            "text/plain": [
              "<Figure size 432x288 with 1 Axes>"
            ],
            "image/png": "[encoded data removed]"
          },
          "metadata": {
            "needs_background": "light"
          }
        }
      ]
    },
    {
      "cell_type": "code",
      "source": [
        "sns.histplot(raw_data['registered'])"
      ],
      "metadata": {
        "colab": {
          "base_uri": "https://localhost:8080/",
          "height": 296
        },
        "id": "h5LiZbiBJcQf",
        "outputId": "cf87ec87-c265-4413-df0c-3262e25d6d9a"
      },
      "execution_count": null,
      "outputs": [
        {
          "output_type": "execute_result",
          "data": {
            "text/plain": [
              "<matplotlib.axes._subplots.AxesSubplot at 0x7f4319ce0cd0>"
            ]
          },
          "metadata": {},
          "execution_count": 157
        },
        {
          "output_type": "display_data",
          "data": {
            "text/plain": [
              "<Figure size 432x288 with 1 Axes>"
            ],
            "image/png": "[encoded data removed]"
          },
          "metadata": {
            "needs_background": "light"
          }
        }
      ]
    },
    {
      "cell_type": "code",
      "source": [
        "sns.boxplot(x = 'count', data = raw_data)"
      ],
      "metadata": {
        "colab": {
          "base_uri": "https://localhost:8080/",
          "height": 296
        },
        "id": "yYxB0Dx5eTLZ",
        "outputId": "b1bbbaef-7d15-437e-8b44-fbff7bac301a"
      },
      "execution_count": null,
      "outputs": [
        {
          "output_type": "execute_result",
          "data": {
            "text/plain": [
              "<matplotlib.axes._subplots.AxesSubplot at 0x7f431a0836d0>"
            ]
          },
          "metadata": {},
          "execution_count": 158
        },
        {
          "output_type": "display_data",
          "data": {
            "text/plain": [
              "<Figure size 432x288 with 1 Axes>"
            ],
            "image/png": "[encoded data removed]"
          },
          "metadata": {
            "needs_background": "light"
          }
        }
      ]
    },
    {
      "cell_type": "code",
      "source": [
        "sns.histplot(raw_data['count'])"
      ],
      "metadata": {
        "colab": {
          "base_uri": "https://localhost:8080/",
          "height": 296
        },
        "id": "eZC0dYcvJnft",
        "outputId": "7749b8a1-f3e1-4cf8-994a-8e530d386881"
      },
      "execution_count": null,
      "outputs": [
        {
          "output_type": "execute_result",
          "data": {
            "text/plain": [
              "<matplotlib.axes._subplots.AxesSubplot at 0x7f431cf81850>"
            ]
          },
          "metadata": {},
          "execution_count": 159
        },
        {
          "output_type": "display_data",
          "data": {
            "text/plain": [
              "<Figure size 432x288 with 1 Axes>"
            ],
            "image/png": "[encoded data removed]"
          },
          "metadata": {
            "needs_background": "light"
          }
        }
      ]
    },
    {
      "cell_type": "markdown",
      "source": [
        "Count, casual and registered  data are right skewed.\n",
        "\n",
        "50% times number of electric cycle booked range from 42 to 284. And we can see after that a lot of outlier is present."
      ],
      "metadata": {
        "id": "eReQ9tjxirxS"
      }
    },
    {
      "cell_type": "code",
      "source": [
        "count_daywise = raw_data.groupby(['date'])['count'].sum()"
      ],
      "metadata": {
        "id": "SXXltdSRLg35"
      },
      "execution_count": null,
      "outputs": []
    },
    {
      "cell_type": "code",
      "source": [
        "count_daywise"
      ],
      "metadata": {
        "colab": {
          "base_uri": "https://localhost:8080/"
        },
        "id": "JLsBFF3nP9Mf",
        "outputId": "8a50aae0-51dc-4501-9129-9924e977291b"
      },
      "execution_count": null,
      "outputs": [
        {
          "output_type": "execute_result",
          "data": {
            "text/plain": [
              "date\n",
              "2011-01-01     985\n",
              "2011-01-02     801\n",
              "2011-01-03    1349\n",
              "2011-01-04    1562\n",
              "2011-01-05    1600\n",
              "              ... \n",
              "2012-12-15    5047\n",
              "2012-12-16    3786\n",
              "2012-12-17    4585\n",
              "2012-12-18    5557\n",
              "2012-12-19    5267\n",
              "Name: count, Length: 456, dtype: int64"
            ]
          },
          "metadata": {},
          "execution_count": 161
        }
      ]
    },
    {
      "cell_type": "code",
      "source": [
        "count_daywise.max()"
      ],
      "metadata": {
        "colab": {
          "base_uri": "https://localhost:8080/"
        },
        "id": "j_0o3sBxSfKD",
        "outputId": "98ae1f04-bafe-47f6-f316-b1d72435726d"
      },
      "execution_count": null,
      "outputs": [
        {
          "output_type": "execute_result",
          "data": {
            "text/plain": [
              "8714"
            ]
          },
          "metadata": {},
          "execution_count": 162
        }
      ]
    },
    {
      "cell_type": "code",
      "source": [
        "plt.plot(raw_data['date'].unique(),count_daywise)\n",
        "plt.xlabel('Date')\n",
        "plt.ylabel('Count')\n",
        "plt.xticks(rotation = 90)\n",
        "plt.show()"
      ],
      "metadata": {
        "colab": {
          "base_uri": "https://localhost:8080/",
          "height": 312
        },
        "id": "yWaKhl7jPkLn",
        "outputId": "87b676eb-a032-43c0-b3c0-6ecdb1cf02f9"
      },
      "execution_count": null,
      "outputs": [
        {
          "output_type": "display_data",
          "data": {
            "text/plain": [
              "<Figure size 432x288 with 1 Axes>"
            ],
            "image/png": "[encoded data removed]"
          },
          "metadata": {
            "needs_background": "light"
          }
        }
      ]
    },
    {
      "cell_type": "markdown",
      "source": [
        "It's seems number of people using bike rent service has increased from start day to end date.\n",
        "\n",
        "The maximum it reached was 8714 people in a single day."
      ],
      "metadata": {
        "id": "oyfiUJJESU6j"
      }
    },
    {
      "cell_type": "code",
      "source": [
        "count_timewise = raw_data.groupby(['Time'])['count'].sum()\n",
        "count_timewise"
      ],
      "metadata": {
        "colab": {
          "base_uri": "https://localhost:8080/"
        },
        "id": "HH3-fAkfPl86",
        "outputId": "7eaac113-4f04-4681-8203-00ff1f028cab"
      },
      "execution_count": null,
      "outputs": [
        {
          "output_type": "execute_result",
          "data": {
            "text/plain": [
              "Time\n",
              "00:00     25088\n",
              "01:00     15372\n",
              "02:00     10259\n",
              "03:00      5091\n",
              "04:00      2832\n",
              "05:00      8935\n",
              "06:00     34698\n",
              "07:00     96968\n",
              "08:00    165060\n",
              "09:00    100910\n",
              "10:00     79667\n",
              "11:00     95857\n",
              "12:00    116968\n",
              "13:00    117551\n",
              "14:00    111010\n",
              "15:00    115960\n",
              "16:00    144266\n",
              "17:00    213757\n",
              "18:00    196472\n",
              "19:00    143767\n",
              "20:00    104204\n",
              "21:00     79057\n",
              "22:00     60911\n",
              "23:00     40816\n",
              "Name: count, dtype: int64"
            ]
          },
          "metadata": {},
          "execution_count": 164
        }
      ]
    },
    {
      "cell_type": "code",
      "source": [
        "plt.plot(raw_data['Time'].unique(),count_timewise)\n",
        "plt.xlabel('Time')\n",
        "plt.ylabel('Count')\n",
        "plt.xticks(rotation = 90)\n",
        "plt.show()"
      ],
      "metadata": {
        "colab": {
          "base_uri": "https://localhost:8080/",
          "height": 298
        },
        "id": "OTyXJXTJTCWq",
        "outputId": "5551b6ec-46d3-4c85-d6bb-42daed6c9d10"
      },
      "execution_count": null,
      "outputs": [
        {
          "output_type": "display_data",
          "data": {
            "text/plain": [
              "<Figure size 432x288 with 1 Axes>"
            ],
            "image/png": "[encoded data removed]"
          },
          "metadata": {
            "needs_background": "light"
          }
        }
      ]
    },
    {
      "cell_type": "markdown",
      "source": [
        "The demand for bikes peaks twice in a day\n",
        "8:00 am and 5:00pm as expected. Because this is the time people start for office and leave office."
      ],
      "metadata": {
        "id": "cTuVuwUOUz9T"
      }
    },
    {
      "cell_type": "markdown",
      "source": [
        "#Bivariant Analysis"
      ],
      "metadata": {
        "id": "YhCpqCfmcf7L"
      }
    },
    {
      "cell_type": "markdown",
      "source": [
        "Let's see how the count varies for different seasons"
      ],
      "metadata": {
        "id": "0vNeKyBefY0E"
      }
    },
    {
      "cell_type": "code",
      "source": [
        "sns.boxplot(y = 'count', x = 'season', data = raw_data)"
      ],
      "metadata": {
        "colab": {
          "base_uri": "https://localhost:8080/",
          "height": 296
        },
        "id": "-UcD4-e1TL3G",
        "outputId": "f57424b8-3167-4a8c-9d05-aaa35abbf88d"
      },
      "execution_count": null,
      "outputs": [
        {
          "output_type": "execute_result",
          "data": {
            "text/plain": [
              "<matplotlib.axes._subplots.AxesSubplot at 0x7f4319a68b50>"
            ]
          },
          "metadata": {},
          "execution_count": 166
        },
        {
          "output_type": "display_data",
          "data": {
            "text/plain": [
              "<Figure size 432x288 with 1 Axes>"
            ],
            "image/png": "[encoded data removed]"
          },
          "metadata": {
            "needs_background": "light"
          }
        }
      ]
    },
    {
      "cell_type": "code",
      "source": [
        "raw_data.groupby(['season'])['count'].mean()"
      ],
      "metadata": {
        "colab": {
          "base_uri": "https://localhost:8080/"
        },
        "id": "ucF_zqLnwBPl",
        "outputId": "4aded1a9-a2b8-49d4-9c9d-6bfa3b75619a"
      },
      "execution_count": null,
      "outputs": [
        {
          "output_type": "execute_result",
          "data": {
            "text/plain": [
              "season\n",
              "1    116.343261\n",
              "2    215.251372\n",
              "3    234.417124\n",
              "4    198.988296\n",
              "Name: count, dtype: float64"
            ]
          },
          "metadata": {},
          "execution_count": 167
        }
      ]
    },
    {
      "cell_type": "markdown",
      "source": [
        "Number of electric bike rented is more in season 3.\n",
        "We can see from the box plot the median for season 3 is highest.\n",
        "All of the seasons have a lot of outliers."
      ],
      "metadata": {
        "id": "mEJjs6Phi42n"
      }
    },
    {
      "cell_type": "code",
      "source": [
        "sns.boxplot(y = 'count', x = 'workingday', data = raw_data)"
      ],
      "metadata": {
        "colab": {
          "base_uri": "https://localhost:8080/",
          "height": 296
        },
        "id": "jAUwU4PifuBL",
        "outputId": "e9df8e0f-8297-420e-c628-cf94516ae624"
      },
      "execution_count": null,
      "outputs": [
        {
          "output_type": "execute_result",
          "data": {
            "text/plain": [
              "<matplotlib.axes._subplots.AxesSubplot at 0x7f43199084d0>"
            ]
          },
          "metadata": {},
          "execution_count": 168
        },
        {
          "output_type": "display_data",
          "data": {
            "text/plain": [
              "<Figure size 432x288 with 1 Axes>"
            ],
            "image/png": "[encoded data removed]"
          },
          "metadata": {
            "needs_background": "light"
          }
        }
      ]
    },
    {
      "cell_type": "code",
      "source": [
        "raw_data.groupby(['workingday'])['count'].mean()"
      ],
      "metadata": {
        "colab": {
          "base_uri": "https://localhost:8080/"
        },
        "id": "xtilXMNrwetJ",
        "outputId": "fafc7e6c-1780-42d6-900e-dc97f5aa843a"
      },
      "execution_count": null,
      "outputs": [
        {
          "output_type": "execute_result",
          "data": {
            "text/plain": [
              "workingday\n",
              "0    188.506621\n",
              "1    193.011873\n",
              "Name: count, dtype: float64"
            ]
          },
          "metadata": {},
          "execution_count": 169
        }
      ]
    },
    {
      "cell_type": "markdown",
      "source": [
        "The numbers of electric cycles rented on working day is more than on non working day.\n",
        "\n",
        "The meadian of working day is also more than non working day. But working day has a lot of outliers."
      ],
      "metadata": {
        "id": "Qm_U3xxjjTZE"
      }
    },
    {
      "cell_type": "code",
      "source": [
        "sns.boxplot(y = 'count', x = 'holiday', data = raw_data)"
      ],
      "metadata": {
        "colab": {
          "base_uri": "https://localhost:8080/",
          "height": 296
        },
        "id": "fu9mFAjPgS5N",
        "outputId": "1f85b4b5-e7cc-425b-e78e-56d55dacd4d8"
      },
      "execution_count": null,
      "outputs": [
        {
          "output_type": "execute_result",
          "data": {
            "text/plain": [
              "<matplotlib.axes._subplots.AxesSubplot at 0x7f431982aad0>"
            ]
          },
          "metadata": {},
          "execution_count": 170
        },
        {
          "output_type": "display_data",
          "data": {
            "text/plain": [
              "<Figure size 432x288 with 1 Axes>"
            ],
            "image/png": "[encoded data removed]"
          },
          "metadata": {
            "needs_background": "light"
          }
        }
      ]
    },
    {
      "cell_type": "code",
      "source": [
        "raw_data.groupby(['holiday'])['count'].mean()"
      ],
      "metadata": {
        "colab": {
          "base_uri": "https://localhost:8080/"
        },
        "id": "YauHiUnBwkPI",
        "outputId": "209b30c1-3560-4445-8d25-0dda3f810f6f"
      },
      "execution_count": null,
      "outputs": [
        {
          "output_type": "execute_result",
          "data": {
            "text/plain": [
              "holiday\n",
              "0    191.741655\n",
              "1    185.877814\n",
              "Name: count, dtype: float64"
            ]
          },
          "metadata": {},
          "execution_count": 171
        }
      ]
    },
    {
      "cell_type": "markdown",
      "source": [
        "The numbers of electric cycles rented on non holiday day is more than on holiday day.\n",
        "\n",
        "The meadian of working day is also more than non working day. But working day has a lot of outliers."
      ],
      "metadata": {
        "id": "pNnfKU4zjv56"
      }
    },
    {
      "cell_type": "code",
      "source": [
        "#season and weather\n",
        "sns.countplot(x='season', hue = 'weather', data = raw_data)"
      ],
      "metadata": {
        "colab": {
          "base_uri": "https://localhost:8080/",
          "height": 297
        },
        "id": "zp0SkBYM3BCS",
        "outputId": "ae4d074c-316a-4f6b-f477-b8d8b1c89d4c"
      },
      "execution_count": null,
      "outputs": [
        {
          "output_type": "execute_result",
          "data": {
            "text/plain": [
              "<matplotlib.axes._subplots.AxesSubplot at 0x7f43197a5d50>"
            ]
          },
          "metadata": {},
          "execution_count": 172
        },
        {
          "output_type": "display_data",
          "data": {
            "text/plain": [
              "<Figure size 432x288 with 1 Axes>"
            ],
            "image/png": "[encoded data removed]"
          },
          "metadata": {
            "needs_background": "light"
          }
        }
      ]
    },
    {
      "cell_type": "markdown",
      "source": [
        "All seasons have all weather except for the 4th one (heavy rain).\n",
        "Clear sky weather is most common in all season."
      ],
      "metadata": {
        "id": "cPIFeOW53Yh2"
      }
    },
    {
      "cell_type": "code",
      "source": [
        "sns.boxplot(y = 'count', x = 'weather', data = raw_data)"
      ],
      "metadata": {
        "colab": {
          "base_uri": "https://localhost:8080/",
          "height": 296
        },
        "id": "nj2RV4R4gWXq",
        "outputId": "08f8c6e3-6429-4859-fe1f-aca925088d93"
      },
      "execution_count": null,
      "outputs": [
        {
          "output_type": "execute_result",
          "data": {
            "text/plain": [
              "<matplotlib.axes._subplots.AxesSubplot at 0x7f431996de10>"
            ]
          },
          "metadata": {},
          "execution_count": 173
        },
        {
          "output_type": "display_data",
          "data": {
            "text/plain": [
              "<Figure size 432x288 with 1 Axes>"
            ],
            "image/png": "[encoded data removed]"
          },
          "metadata": {
            "needs_background": "light"
          }
        }
      ]
    },
    {
      "cell_type": "code",
      "source": [
        "raw_data.groupby(['weather'])['count'].mean()"
      ],
      "metadata": {
        "colab": {
          "base_uri": "https://localhost:8080/"
        },
        "id": "XNcLUXXmwsWQ",
        "outputId": "fa16c5a6-dfd5-4064-f20a-d57972193c46"
      },
      "execution_count": null,
      "outputs": [
        {
          "output_type": "execute_result",
          "data": {
            "text/plain": [
              "weather\n",
              "1    205.236791\n",
              "2    178.955540\n",
              "3    118.846333\n",
              "4    164.000000\n",
              "Name: count, dtype: float64"
            ]
          },
          "metadata": {},
          "execution_count": 174
        }
      ]
    },
    {
      "cell_type": "markdown",
      "source": [
        "People have rented bikes on clear day more than other days.\n",
        "\n",
        "The median too for clear day is highest among the group."
      ],
      "metadata": {
        "id": "hLqIJYFmkEON"
      }
    },
    {
      "cell_type": "markdown",
      "source": [
        "#Hyothesis Testing\n",
        "Let's find out which features are more significant and impacting 'count' value\n",
        "\n",
        "We will perform different Hyothesis Testing to find features which are important."
      ],
      "metadata": {
        "id": "HL5Hb6ZEjWjo"
      }
    },
    {
      "cell_type": "code",
      "source": [
        "#importing libraries required for hypothesis testing\n",
        "from scipy.stats import f_oneway, kruskal\n",
        "from scipy.stats import chi2_contingency\n",
        "from scipy.stats import ttest_ind\n"
      ],
      "metadata": {
        "id": "KDYL71WJkHkA"
      },
      "execution_count": null,
      "outputs": []
    },
    {
      "cell_type": "code",
      "source": [
        "from statsmodels.distributions.empirical_distribution import ECDF\n",
        "from statsmodels.graphics.gofplots import qqplot, qqplot_2samples\n",
        "from scipy.stats import levene\n",
        "from scipy.stats import norm\n",
        "from scipy.stats import shapiro\n",
        "from scipy.stats import kstest, boxcox"
      ],
      "metadata": {
        "id": "NkVMS-ka3SbA"
      },
      "execution_count": null,
      "outputs": []
    },
    {
      "cell_type": "markdown",
      "source": [
        "---\n",
        "## Season Vs Count\n",
        "\n",
        "Let's see if season has impact on the 'count'\n",
        "\n",
        "H0: Season has no impact on 'count'\n",
        "\n",
        "Ha: Season has impact 'count'\n",
        "\n",
        "We will do anova test in this case as we have categorical variable with more than 2 categories."
      ],
      "metadata": {
        "id": "OoUGi9LBlVAX"
      }
    },
    {
      "cell_type": "code",
      "source": [
        "sns.boxplot(y = 'count', x = 'season', data = raw_data)"
      ],
      "metadata": {
        "colab": {
          "base_uri": "https://localhost:8080/",
          "height": 296
        },
        "id": "eGZtWA91Vups",
        "outputId": "138d2d6d-751b-43a5-fc8c-5b1b04dc1f2c"
      },
      "execution_count": null,
      "outputs": [
        {
          "output_type": "execute_result",
          "data": {
            "text/plain": [
              "<matplotlib.axes._subplots.AxesSubplot at 0x7f4319614d50>"
            ]
          },
          "metadata": {},
          "execution_count": 177
        },
        {
          "output_type": "display_data",
          "data": {
            "text/plain": [
              "<Figure size 432x288 with 1 Axes>"
            ],
            "image/png": "[encoded data removed]"
          },
          "metadata": {
            "needs_background": "light"
          }
        }
      ]
    },
    {
      "cell_type": "code",
      "source": [
        "sns.kdeplot(x = 'count', data = raw_data, hue = 'season')"
      ],
      "metadata": {
        "colab": {
          "base_uri": "https://localhost:8080/",
          "height": 296
        },
        "id": "v-pvVDrDYEW8",
        "outputId": "70281609-4acc-4a03-a65c-9094b47f1d54"
      },
      "execution_count": null,
      "outputs": [
        {
          "output_type": "execute_result",
          "data": {
            "text/plain": [
              "<matplotlib.axes._subplots.AxesSubplot at 0x7f43195a8b50>"
            ]
          },
          "metadata": {},
          "execution_count": 178
        },
        {
          "output_type": "display_data",
          "data": {
            "text/plain": [
              "<Figure size 432x288 with 1 Axes>"
            ],
            "image/png": "[encoded data removed]"
          },
          "metadata": {
            "needs_background": "light"
          }
        }
      ]
    },
    {
      "cell_type": "markdown",
      "source": [
        "We can see the data is not normal, so it violates one of the assumption of ANOVA."
      ],
      "metadata": {
        "id": "el5k_PDiYcJd"
      }
    },
    {
      "cell_type": "code",
      "source": [
        "raw_data.groupby(['season'])['count'].mean()"
      ],
      "metadata": {
        "colab": {
          "base_uri": "https://localhost:8080/"
        },
        "id": "Kxx4aejhV4ix",
        "outputId": "fcb6643d-99c8-4361-82d6-cb71ccab4f49"
      },
      "execution_count": null,
      "outputs": [
        {
          "output_type": "execute_result",
          "data": {
            "text/plain": [
              "season\n",
              "1    116.343261\n",
              "2    215.251372\n",
              "3    234.417124\n",
              "4    198.988296\n",
              "Name: count, dtype: float64"
            ]
          },
          "metadata": {},
          "execution_count": 179
        }
      ]
    },
    {
      "cell_type": "markdown",
      "source": [
        "We can observe that mean of number of electric cycles rented in each season is different and it varying from 116.34 to 198.98.\n",
        "\n",
        "We will do ANOVA test to see if this difference is statistically significant or not."
      ],
      "metadata": {
        "id": "ko73nKPPWVHh"
      }
    },
    {
      "cell_type": "code",
      "source": [
        "df_season_1 = raw_data[raw_data['season']==1]\n",
        "df_season_2 = raw_data[raw_data['season']==2]\n",
        "df_season_3 = raw_data[raw_data['season']==3]\n",
        "df_season_4 = raw_data[raw_data['season']==4]"
      ],
      "metadata": {
        "id": "-FzytOKVtOkB"
      },
      "execution_count": null,
      "outputs": []
    },
    {
      "cell_type": "code",
      "source": [
        "#shaprio test to check if curve is normal or not\n",
        "#null hypothesis of shaprio is that distribution is normal\n",
        "print(\"Count data for season 1\", shapiro(df_season_1['count']))\n",
        "print(\"Count data for season 2\", shapiro(df_season_2['count']))\n",
        "print(\"Count data for season 3\", shapiro(df_season_3['count']))\n",
        "print(\"Count data for season 4\", shapiro(df_season_4['count']))"
      ],
      "metadata": {
        "colab": {
          "base_uri": "https://localhost:8080/"
        },
        "id": "cZBg9d1-5a5b",
        "outputId": "06c76bdf-fe14-48fc-d795-076cc710ca84"
      },
      "execution_count": null,
      "outputs": [
        {
          "output_type": "stream",
          "name": "stdout",
          "text": [
            "Count data for season 1 ShapiroResult(statistic=0.8087379336357117, pvalue=0.0)\n",
            "Count data for season 2 ShapiroResult(statistic=0.9004813432693481, pvalue=6.038565025570219e-39)\n",
            "Count data for season 3 ShapiroResult(statistic=0.9148167371749878, pvalue=1.0437356147871525e-36)\n",
            "Count data for season 4 ShapiroResult(statistic=0.8954642415046692, pvalue=1.130082751748606e-39)\n"
          ]
        }
      ]
    },
    {
      "cell_type": "markdown",
      "source": [
        "All the p-value is very small, so we **reject the null hypothesis which means distribution is not normal.**\n",
        "From kde plot and shaprio test we conclude that distribution is not normal.\n",
        "\n",
        "Let's try log transform on it and see the p-values"
      ],
      "metadata": {
        "id": "NWv4yzO_6HK9"
      }
    },
    {
      "cell_type": "code",
      "source": [
        "print(\"Count data for season 1\", shapiro(np.log(df_season_1['count'])))\n",
        "print(\"Count data for season 2\", shapiro(np.log(df_season_2['count'])))\n",
        "print(\"Count data for season 3\", shapiro(np.log(df_season_3['count'])))\n",
        "print(\"Count data for season 4\", shapiro(np.log(df_season_4['count'])))"
      ],
      "metadata": {
        "colab": {
          "base_uri": "https://localhost:8080/"
        },
        "id": "_xmzDfiA6piC",
        "outputId": "747de25b-f7d6-47a5-f455-a2f0d6f03590"
      },
      "execution_count": null,
      "outputs": [
        {
          "output_type": "stream",
          "name": "stdout",
          "text": [
            "Count data for season 1 ShapiroResult(statistic=0.9254218339920044, pvalue=1.3553901006855851e-34)\n",
            "Count data for season 2 ShapiroResult(statistic=0.904329240322113, pvalue=2.2633447694530722e-38)\n",
            "Count data for season 3 ShapiroResult(statistic=0.8916517496109009, pvalue=3.379091116872864e-40)\n",
            "Count data for season 4 ShapiroResult(statistic=0.9040923714637756, pvalue=2.0566854758298412e-38)\n"
          ]
        }
      ]
    },
    {
      "cell_type": "markdown",
      "source": [
        "Still p-value remain very low. We again reject the null hypothesis.\n",
        "with 99% confidence it can be said that the distributions are not normal.\n",
        "This is violation of ANOVA assumption."
      ],
      "metadata": {
        "id": "dCDQbjbt62T3"
      }
    },
    {
      "cell_type": "code",
      "source": [
        "e1 = ECDF(df_season_1['count'])\n",
        "e2 = ECDF(df_season_2['count'])\n",
        "e3 = ECDF(df_season_3['count'])\n",
        "e4 = ECDF(df_season_4['count'])"
      ],
      "metadata": {
        "id": "O1MqTrcUH8Q6"
      },
      "execution_count": null,
      "outputs": []
    },
    {
      "cell_type": "code",
      "source": [
        "plt.plot(e1.x, e1.y)\n",
        "plt.plot(e2.x, e2.y)\n",
        "plt.plot(e3.x, e3.y)\n",
        "plt.plot(e4.x, e4.y)"
      ],
      "metadata": {
        "colab": {
          "base_uri": "https://localhost:8080/",
          "height": 282
        },
        "id": "b1igWDV5ILmu",
        "outputId": "b0e97759-4944-41af-b682-091ccfb3018e"
      },
      "execution_count": null,
      "outputs": [
        {
          "output_type": "execute_result",
          "data": {
            "text/plain": [
              "[<matplotlib.lines.Line2D at 0x7f43194a3d50>]"
            ]
          },
          "metadata": {},
          "execution_count": 184
        },
        {
          "output_type": "display_data",
          "data": {
            "text/plain": [
              "<Figure size 432x288 with 1 Axes>"
            ],
            "image/png": "[encoded data removed]"
          },
          "metadata": {
            "needs_background": "light"
          }
        }
      ]
    },
    {
      "cell_type": "markdown",
      "source": [
        "From the ECDF plot we can observe that the distribution of all four samples are not same."
      ],
      "metadata": {
        "id": "zCidwDJ4W7Qr"
      }
    },
    {
      "cell_type": "code",
      "source": [
        "print(df_season_1['count'].std())\n",
        "print(df_season_2['count'].std())\n",
        "print(df_season_3['count'].std())\n",
        "print(df_season_4['count'].std())"
      ],
      "metadata": {
        "colab": {
          "base_uri": "https://localhost:8080/"
        },
        "id": "y3l0-ooLOXVh",
        "outputId": "8b18640c-1d51-480f-e79d-516afa739d8c"
      },
      "execution_count": null,
      "outputs": [
        {
          "output_type": "stream",
          "name": "stdout",
          "text": [
            "125.27397388810313\n",
            "192.00784313546262\n",
            "197.15100053680393\n",
            "177.62240938763696\n"
          ]
        }
      ]
    },
    {
      "cell_type": "code",
      "source": [
        "levene(df_season_1['count'], df_season_2['count'], df_season_3['count'], df_season_4['count'])"
      ],
      "metadata": {
        "colab": {
          "base_uri": "https://localhost:8080/"
        },
        "id": "I3QU3GLHL63m",
        "outputId": "a83a0697-88e5-4a06-b777-b66c04998c07"
      },
      "execution_count": null,
      "outputs": [
        {
          "output_type": "execute_result",
          "data": {
            "text/plain": [
              "LeveneResult(statistic=187.7706624026276, pvalue=1.0147116860043298e-118)"
            ]
          },
          "metadata": {},
          "execution_count": 186
        }
      ]
    },
    {
      "cell_type": "markdown",
      "source": [
        "As the p-value is very small, we reject the null hypothesis which means the difference in the **standard deviation of these four sample is significant**."
      ],
      "metadata": {
        "id": "oGUIsm3wW1pt"
      }
    },
    {
      "cell_type": "code",
      "source": [
        "f_oneway(df_season_1['count'], df_season_2['count'], df_season_3['count'], df_season_4['count'])"
      ],
      "metadata": {
        "colab": {
          "base_uri": "https://localhost:8080/"
        },
        "id": "bOMECFx8uEIp",
        "outputId": "90b3411b-624c-4905-baf9-f1c1e679603d"
      },
      "execution_count": null,
      "outputs": [
        {
          "output_type": "execute_result",
          "data": {
            "text/plain": [
              "F_onewayResult(statistic=236.94671081032106, pvalue=6.164843386499654e-149)"
            ]
          },
          "metadata": {},
          "execution_count": 187
        }
      ]
    },
    {
      "cell_type": "code",
      "source": [
        "#let's see if log transform will change the result or not.\n",
        "f_oneway(np.log(df_season_1['count']), np.log(df_season_2['count']), np.log(df_season_3['count']), np.log(df_season_4['count']))"
      ],
      "metadata": {
        "colab": {
          "base_uri": "https://localhost:8080/"
        },
        "id": "IcQJaw6sdQL1",
        "outputId": "bfce04be-2f17-4e4d-9a77-0a7b5b1625cf"
      },
      "execution_count": null,
      "outputs": [
        {
          "output_type": "execute_result",
          "data": {
            "text/plain": [
              "F_onewayResult(statistic=192.44768979509686, pvalue=1.3071364586238867e-121)"
            ]
          },
          "metadata": {},
          "execution_count": 188
        }
      ]
    },
    {
      "cell_type": "code",
      "source": [
        "kruskal(df_season_1['count'], df_season_2['count'], df_season_3['count'], df_season_4['count'])"
      ],
      "metadata": {
        "colab": {
          "base_uri": "https://localhost:8080/"
        },
        "id": "ZyAhtnmv2AQX",
        "outputId": "fec40380-fd34-4275-bb12-46bd954d043d"
      },
      "execution_count": null,
      "outputs": [
        {
          "output_type": "execute_result",
          "data": {
            "text/plain": [
              "KruskalResult(statistic=699.6668548181988, pvalue=2.479008372608633e-151)"
            ]
          },
          "metadata": {},
          "execution_count": 189
        }
      ]
    },
    {
      "cell_type": "markdown",
      "source": [
        "Even if we take alpha as 1%.\n",
        "P-value is still less than that.\n",
        "\n",
        "**So we reject the null hypothesis which means the number of electric cycles rented is dependent on the season**."
      ],
      "metadata": {
        "id": "bTkShzx4xh3-"
      }
    },
    {
      "cell_type": "markdown",
      "source": [
        "---\n",
        "## Weather vs Count\n",
        "\n",
        "Let's see if Weather has impact on the 'count'\n",
        "\n",
        "H0: Weather has no impact on 'count'\n",
        "\n",
        "Ha: Weather has impact 'count'\n",
        "\n",
        "We will do anova test in this case as we have categorical variable with more than 2 categories."
      ],
      "metadata": {
        "id": "uTPC2i5x0Jpx"
      }
    },
    {
      "cell_type": "code",
      "source": [
        "sns.boxplot(y = 'count', x = 'weather', data = raw_data)"
      ],
      "metadata": {
        "colab": {
          "base_uri": "https://localhost:8080/",
          "height": 296
        },
        "id": "LZ2XGCKPeviZ",
        "outputId": "d3cd3c0e-3e15-4c66-de97-3912e8691271"
      },
      "execution_count": null,
      "outputs": [
        {
          "output_type": "execute_result",
          "data": {
            "text/plain": [
              "<matplotlib.axes._subplots.AxesSubplot at 0x7f43194f0e90>"
            ]
          },
          "metadata": {},
          "execution_count": 190
        },
        {
          "output_type": "display_data",
          "data": {
            "text/plain": [
              "<Figure size 432x288 with 1 Axes>"
            ],
            "image/png": "[encoded data removed]"
          },
          "metadata": {
            "needs_background": "light"
          }
        }
      ]
    },
    {
      "cell_type": "code",
      "source": [
        "sns.kdeplot(x = 'count', data = raw_data, hue = 'weather')"
      ],
      "metadata": {
        "colab": {
          "base_uri": "https://localhost:8080/",
          "height": 351
        },
        "id": "hW8CiCXUe8Bi",
        "outputId": "9cc28d8e-a2d7-4666-cd76-2b506cd2e13f"
      },
      "execution_count": null,
      "outputs": [
        {
          "output_type": "stream",
          "name": "stderr",
          "text": [
            "/usr/local/lib/python3.7/dist-packages/seaborn/distributions.py:316: UserWarning: Dataset has 0 variance; skipping density estimate. Pass `warn_singular=False` to disable this warning.\n",
            "  warnings.warn(msg, UserWarning)\n"
          ]
        },
        {
          "output_type": "execute_result",
          "data": {
            "text/plain": [
              "<matplotlib.axes._subplots.AxesSubplot at 0x7f43194f0410>"
            ]
          },
          "metadata": {},
          "execution_count": 191
        },
        {
          "output_type": "display_data",
          "data": {
            "text/plain": [
              "<Figure size 432x288 with 1 Axes>"
            ],
            "image/png": "[encoded data removed]"
          },
          "metadata": {
            "needs_background": "light"
          }
        }
      ]
    },
    {
      "cell_type": "code",
      "source": [
        "df_weather_1 = raw_data[raw_data['weather']==1]\n",
        "df_weather_2 = raw_data[raw_data['weather']==2]\n",
        "df_weather_3 = raw_data[raw_data['weather']==3]\n",
        "df_weather_4 = raw_data[raw_data['weather']==4]"
      ],
      "metadata": {
        "id": "_kwu4ITxuaws"
      },
      "execution_count": null,
      "outputs": []
    },
    {
      "cell_type": "code",
      "source": [
        "#shaprio test to check if curve is normal or not\n",
        "#null hypothesis of shaprio is that distribution is normal\n",
        "print(\"Count data for weather 1\", shapiro(df_weather_1['count']))\n",
        "print(\"Count data for weather 2\", shapiro(df_weather_2['count']))\n",
        "print(\"Count data for weather 3\", shapiro(df_weather_3['count']))\n",
        "#print(\"Count data for weather 4\", shapiro(df_weather_4['count']))"
      ],
      "metadata": {
        "colab": {
          "base_uri": "https://localhost:8080/"
        },
        "id": "sVTBFLrG7u42",
        "outputId": "e9706f7a-bf8a-4c7f-ffba-967d44928ec1"
      },
      "execution_count": null,
      "outputs": [
        {
          "output_type": "stream",
          "name": "stdout",
          "text": [
            "Count data for weather 1 ShapiroResult(statistic=0.8909225463867188, pvalue=0.0)\n",
            "Count data for weather 2 ShapiroResult(statistic=0.8767690658569336, pvalue=9.781063280987223e-43)\n",
            "Count data for weather 3 ShapiroResult(statistic=0.7674333453178406, pvalue=3.876134581802921e-33)\n"
          ]
        },
        {
          "output_type": "stream",
          "name": "stderr",
          "text": [
            "/usr/local/lib/python3.7/dist-packages/scipy/stats/morestats.py:1760: UserWarning: p-value may not be accurate for N > 5000.\n",
            "  warnings.warn(\"p-value may not be accurate for N > 5000.\")\n"
          ]
        }
      ]
    },
    {
      "cell_type": "markdown",
      "source": [
        "From above kde plot and shapiro test, we can say that the data is not normal which violates the ANOVA assumptions.\n",
        "\n",
        "We can also see that number of points for 4 weather is less.\n",
        "\n",
        "Let's see if the variance in samples are sampe or not."
      ],
      "metadata": {
        "id": "6IzU048UfHPw"
      }
    },
    {
      "cell_type": "code",
      "source": [
        "e1 = ECDF(df_weather_1['count'])\n",
        "e2 = ECDF(df_weather_2['count'])\n",
        "e3 = ECDF(df_weather_3['count'])\n",
        "e4 = ECDF(df_weather_4['count'])"
      ],
      "metadata": {
        "id": "sM004cabK3u8"
      },
      "execution_count": null,
      "outputs": []
    },
    {
      "cell_type": "code",
      "source": [
        "plt.plot(e1.x, e1.y)\n",
        "plt.plot(e2.x, e2.y)\n",
        "plt.plot(e3.x, e3.y)\n",
        "plt.plot(e4.x, e4.y)"
      ],
      "metadata": {
        "colab": {
          "base_uri": "https://localhost:8080/",
          "height": 282
        },
        "id": "t8Doy7o_LA9c",
        "outputId": "0f5a025d-b09d-4cc8-eed2-97ba81717990"
      },
      "execution_count": null,
      "outputs": [
        {
          "output_type": "execute_result",
          "data": {
            "text/plain": [
              "[<matplotlib.lines.Line2D at 0x7f43192dea90>]"
            ]
          },
          "metadata": {},
          "execution_count": 195
        },
        {
          "output_type": "display_data",
          "data": {
            "text/plain": [
              "<Figure size 432x288 with 1 Axes>"
            ],
            "image/png": "[encoded data removed]"
          },
          "metadata": {
            "needs_background": "light"
          }
        }
      ]
    },
    {
      "cell_type": "markdown",
      "source": [
        "The distribution of data is also not similar for each sample."
      ],
      "metadata": {
        "id": "zytYDxbagKxt"
      }
    },
    {
      "cell_type": "code",
      "source": [
        "print(df_weather_1['count'].std())\n",
        "print(df_weather_2['count'].std())\n",
        "print(df_weather_3['count'].std())\n",
        "print(df_weather_4['count'].std())"
      ],
      "metadata": {
        "colab": {
          "base_uri": "https://localhost:8080/"
        },
        "id": "keiAXW_Zfqy5",
        "outputId": "89e9a154-5981-4822-d05c-d7ff18aa7d82"
      },
      "execution_count": null,
      "outputs": [
        {
          "output_type": "stream",
          "name": "stdout",
          "text": [
            "187.9595660313149\n",
            "168.36641290145073\n",
            "138.5812970523591\n",
            "nan\n"
          ]
        }
      ]
    },
    {
      "cell_type": "code",
      "source": [
        "#H0: variance is same in each sample.\n",
        "levene(df_weather_1['count'], df_weather_2['count'], df_weather_3['count'], df_weather_4['count'])"
      ],
      "metadata": {
        "colab": {
          "base_uri": "https://localhost:8080/"
        },
        "id": "tTbgeYwwMF4b",
        "outputId": "486d42c3-1551-4c83-f4f2-cadf4003ae83"
      },
      "execution_count": null,
      "outputs": [
        {
          "output_type": "execute_result",
          "data": {
            "text/plain": [
              "LeveneResult(statistic=54.85106195954556, pvalue=3.504937946833238e-35)"
            ]
          },
          "metadata": {},
          "execution_count": 197
        }
      ]
    },
    {
      "cell_type": "markdown",
      "source": [
        "As the p-value is very small, we reject the null hypothesis which means **difference in the standard deviantion is significant**.\n",
        "\n",
        "We can observe from the levene test result that variance is not same, which violates the ANOVA assumptions."
      ],
      "metadata": {
        "id": "F6e_sHW_f4wo"
      }
    },
    {
      "cell_type": "code",
      "source": [
        "#ANOVA test\n",
        "f_oneway(df_weather_1['count'], df_weather_2['count'], df_weather_3['count'], df_weather_4['count'])"
      ],
      "metadata": {
        "colab": {
          "base_uri": "https://localhost:8080/"
        },
        "id": "mSEYpDC8zz7B",
        "outputId": "01c3cb80-2712-45d2-e71a-575b2a1b7183"
      },
      "execution_count": null,
      "outputs": [
        {
          "output_type": "execute_result",
          "data": {
            "text/plain": [
              "F_onewayResult(statistic=65.53024112793271, pvalue=5.482069475935669e-42)"
            ]
          },
          "metadata": {},
          "execution_count": 198
        }
      ]
    },
    {
      "cell_type": "code",
      "source": [
        "#ANOVA test\n",
        "# let's calculate by not including the 4th weather data.\n",
        "f_oneway(df_weather_1['count'], df_weather_2['count'], df_weather_3['count'])"
      ],
      "metadata": {
        "colab": {
          "base_uri": "https://localhost:8080/"
        },
        "id": "WxLLORovgUdS",
        "outputId": "f62dde96-6c37-4bb6-d617-0ad6c15158c4"
      },
      "execution_count": null,
      "outputs": [
        {
          "output_type": "execute_result",
          "data": {
            "text/plain": [
              "F_onewayResult(statistic=98.28356881946706, pvalue=4.976448509904196e-43)"
            ]
          },
          "metadata": {},
          "execution_count": 199
        }
      ]
    },
    {
      "cell_type": "code",
      "source": [
        "# As ANOVA assumptions are violated, we can find check the hypothesis using the kruskal which is robust to these violatation.\n",
        "kruskal(df_weather_1['count'], df_weather_2['count'], df_weather_3['count'], df_weather_4['count'])"
      ],
      "metadata": {
        "colab": {
          "base_uri": "https://localhost:8080/"
        },
        "id": "jgNd3xK413a_",
        "outputId": "2525ea7f-a7b2-429b-f244-3160307b09d4"
      },
      "execution_count": null,
      "outputs": [
        {
          "output_type": "execute_result",
          "data": {
            "text/plain": [
              "KruskalResult(statistic=205.00216514479087, pvalue=3.501611300708679e-44)"
            ]
          },
          "metadata": {},
          "execution_count": 200
        }
      ]
    },
    {
      "cell_type": "markdown",
      "source": [
        "Even if we take alpha as 1%.\n",
        "P-value is still less than that.\n",
        "\n",
        "**So we reject the null hypothesis which means the number of electric cycles rented is dependent on the weather.**"
      ],
      "metadata": {
        "id": "1lQbcHA70cba"
      }
    },
    {
      "cell_type": "markdown",
      "source": [
        "___\n",
        "## Weather vs Season\n",
        "\n",
        "Now we will check if Weather is dependent on the seasons.\n",
        "\n",
        "H0: The two features are independent.\n",
        "\n",
        "Ha: The two features are dependent.\n",
        "\n"
      ],
      "metadata": {
        "id": "O9-W4TyOf5aX"
      }
    },
    {
      "cell_type": "code",
      "source": [
        "season_weather = pd.crosstab(raw_data['season'], raw_data['weather'])\n",
        "season_weather"
      ],
      "metadata": {
        "colab": {
          "base_uri": "https://localhost:8080/",
          "height": 206
        },
        "id": "6TqosZq2z_36",
        "outputId": "848db37e-0bd6-4cba-c488-786b8fc1ab7d"
      },
      "execution_count": null,
      "outputs": [
        {
          "output_type": "execute_result",
          "data": {
            "text/plain": [
              "weather     1    2    3  4\n",
              "season                    \n",
              "1        1759  715  211  1\n",
              "2        1801  708  224  0\n",
              "3        1930  604  199  0\n",
              "4        1702  807  225  0"
            ],
            "text/html": [
              "\n",
              "  <div id=\"df-83652b7d-1c18-4f83-b280-64f0a6dd95a8\">\n",
              "    <div class=\"colab-df-container\">\n",
              "      <div>\n",
              "<style scoped>\n",
              "    .dataframe tbody tr th:only-of-type {\n",
              "        vertical-align: middle;\n",
              "    }\n",
              "\n",
              "    .dataframe tbody tr th {\n",
              "        vertical-align: top;\n",
              "    }\n",
              "\n",
              "    .dataframe thead th {\n",
              "        text-align: right;\n",
              "    }\n",
              "</style>\n",
              "<table border=\"1\" class=\"dataframe\">\n",
              "  <thead>\n",
              "    <tr style=\"text-align: right;\">\n",
              "      <th>weather</th>\n",
              "      <th>1</th>\n",
              "      <th>2</th>\n",
              "      <th>3</th>\n",
              "      <th>4</th>\n",
              "    </tr>\n",
              "    <tr>\n",
              "      <th>season</th>\n",
              "      <th></th>\n",
              "      <th></th>\n",
              "      <th></th>\n",
              "      <th></th>\n",
              "    </tr>\n",
              "  </thead>\n",
              "  <tbody>\n",
              "    <tr>\n",
              "      <th>1</th>\n",
              "      <td>1759</td>\n",
              "      <td>715</td>\n",
              "      <td>211</td>\n",
              "      <td>1</td>\n",
              "    </tr>\n",
              "    <tr>\n",
              "      <th>2</th>\n",
              "      <td>1801</td>\n",
              "      <td>708</td>\n",
              "      <td>224</td>\n",
              "      <td>0</td>\n",
              "    </tr>\n",
              "    <tr>\n",
              "      <th>3</th>\n",
              "      <td>1930</td>\n",
              "      <td>604</td>\n",
              "      <td>199</td>\n",
              "      <td>0</td>\n",
              "    </tr>\n",
              "    <tr>\n",
              "      <th>4</th>\n",
              "      <td>1702</td>\n",
              "      <td>807</td>\n",
              "      <td>225</td>\n",
              "      <td>0</td>\n",
              "    </tr>\n",
              "  </tbody>\n",
              "</table>\n",
              "</div>\n",
              "      <button class=\"colab-df-convert\" onclick=\"convertToInteractive('df-83652b7d-1c18-4f83-b280-64f0a6dd95a8')\"\n",
              "              title=\"Convert this dataframe to an interactive table.\"\n",
              "              style=\"display:none;\">\n",
              "        \n",
              "  <svg xmlns=\"http://www.w3.org/2000/svg\" height=\"24px\"viewBox=\"0 0 24 24\"\n",
              "       width=\"24px\">\n",
              "    <path d=\"M0 0h24v24H0V0z\" fill=\"none\"/>\n",
              "    <path d=\"M18.56 5.44l.94 2.06.94-2.06 2.06-.94-2.06-.94-.94-2.06-.94 2.06-2.06.94zm-11 1L8.5 8.5l.94-2.06 2.06-.94-2.06-.94L8.5 2.5l-.94 2.06-2.06.94zm10 10l.94 2.06.94-2.06 2.06-.94-2.06-.94-.94-2.06-.94 2.06-2.06.94z\"/><path d=\"M17.41 7.96l-1.37-1.37c-.4-.4-.92-.59-1.43-.59-.52 0-1.04.2-1.43.59L10.3 9.45l-7.72 7.72c-.78.78-.78 2.05 0 2.83L4 21.41c.39.39.9.59 1.41.59.51 0 1.02-.2 1.41-.59l7.78-7.78 2.81-2.81c.8-.78.8-2.07 0-2.86zM5.41 20L4 18.59l7.72-7.72 1.47 1.35L5.41 20z\"/>\n",
              "  </svg>\n",
              "      </button>\n",
              "      \n",
              "  <style>\n",
              "    .colab-df-container {\n",
              "      display:flex;\n",
              "      flex-wrap:wrap;\n",
              "      gap: 12px;\n",
              "    }\n",
              "\n",
              "    .colab-df-convert {\n",
              "      background-color: #E8F0FE;\n",
              "      border: none;\n",
              "      border-radius: 50%;\n",
              "      cursor: pointer;\n",
              "      display: none;\n",
              "      fill: #1967D2;\n",
              "      height: 32px;\n",
              "      padding: 0 0 0 0;\n",
              "      width: 32px;\n",
              "    }\n",
              "\n",
              "    .colab-df-convert:hover {\n",
              "      background-color: #E2EBFA;\n",
              "      box-shadow: 0px 1px 2px rgba(60, 64, 67, 0.3), 0px 1px 3px 1px rgba(60, 64, 67, 0.15);\n",
              "      fill: #174EA6;\n",
              "    }\n",
              "\n",
              "    [theme=dark] .colab-df-convert {\n",
              "      background-color: #3B4455;\n",
              "      fill: #D2E3FC;\n",
              "    }\n",
              "\n",
              "    [theme=dark] .colab-df-convert:hover {\n",
              "      background-color: #434B5C;\n",
              "      box-shadow: 0px 1px 3px 1px rgba(0, 0, 0, 0.15);\n",
              "      filter: drop-shadow(0px 1px 2px rgba(0, 0, 0, 0.3));\n",
              "      fill: #FFFFFF;\n",
              "    }\n",
              "  </style>\n",
              "\n",
              "      <script>\n",
              "        const buttonEl =\n",
              "          document.querySelector('#df-83652b7d-1c18-4f83-b280-64f0a6dd95a8 button.colab-df-convert');\n",
              "        buttonEl.style.display =\n",
              "          google.colab.kernel.accessAllowed ? 'block' : 'none';\n",
              "\n",
              "        async function convertToInteractive(key) {\n",
              "          const element = document.querySelector('#df-83652b7d-1c18-4f83-b280-64f0a6dd95a8');\n",
              "          const dataTable =\n",
              "            await google.colab.kernel.invokeFunction('convertToInteractive',\n",
              "                                                     [key], {});\n",
              "          if (!dataTable) return;\n",
              "\n",
              "          const docLinkHtml = 'Like what you see? Visit the ' +\n",
              "            '<a target=\"_blank\" href=https://colab.research.google.com/notebooks/data_table.ipynb>data table notebook</a>'\n",
              "            + ' to learn more about interactive tables.';\n",
              "          element.innerHTML = '';\n",
              "          dataTable['output_type'] = 'display_data';\n",
              "          await google.colab.output.renderOutput(dataTable, element);\n",
              "          const docLink = document.createElement('div');\n",
              "          docLink.innerHTML = docLinkHtml;\n",
              "          element.appendChild(docLink);\n",
              "        }\n",
              "      </script>\n",
              "    </div>\n",
              "  </div>\n",
              "  "
            ]
          },
          "metadata": {},
          "execution_count": 201
        }
      ]
    },
    {
      "cell_type": "code",
      "source": [
        "season_weather.div(season_weather.sum(axis = 1), axis = 0).plot(kind = 'bar', figsize=(7,5))\n",
        "plt.xlabel(\"seasons\")\n",
        "plt.ylabel(\"percentage\")\n",
        "plt.show()"
      ],
      "metadata": {
        "colab": {
          "base_uri": "https://localhost:8080/",
          "height": 330
        },
        "id": "7gZShYgqiHOC",
        "outputId": "eef2071c-fd94-4962-a51b-d768a5d21ed6"
      },
      "execution_count": null,
      "outputs": [
        {
          "output_type": "display_data",
          "data": {
            "text/plain": [
              "<Figure size 504x360 with 1 Axes>"
            ],
            "image/png": "[encoded data removed]"
          },
          "metadata": {
            "needs_background": "light"
          }
        }
      ]
    },
    {
      "cell_type": "code",
      "source": [
        "chi2_contingency(season_weather)"
      ],
      "metadata": {
        "colab": {
          "base_uri": "https://localhost:8080/"
        },
        "id": "wK2VQ2XRg4RR",
        "outputId": "ab54a169-0fcd-4e5f-ab7c-d5944680cd05"
      },
      "execution_count": null,
      "outputs": [
        {
          "output_type": "execute_result",
          "data": {
            "text/plain": [
              "(49.158655596893624,\n",
              " 1.549925073686492e-07,\n",
              " 9,\n",
              " array([[1.77454639e+03, 6.99258130e+02, 2.11948742e+02, 2.46738931e-01],\n",
              "        [1.80559765e+03, 7.11493845e+02, 2.15657450e+02, 2.51056403e-01],\n",
              "        [1.80559765e+03, 7.11493845e+02, 2.15657450e+02, 2.51056403e-01],\n",
              "        [1.80625831e+03, 7.11754180e+02, 2.15736359e+02, 2.51148264e-01]]))"
            ]
          },
          "metadata": {},
          "execution_count": 203
        }
      ]
    },
    {
      "cell_type": "markdown",
      "source": [
        "Let's check if we can use chi-square test.\n",
        "Assumptions of chi-squared test:\n",
        "1. Both should be categorical variable.\n",
        "       - yes season and weather are categorical variable.\n",
        "2. All observations are independent.\n",
        "       - yes observations are independent (not any specific given in data description)\n",
        "\n",
        "3. Cells in the contengency table are mutually exclusive.\n",
        "       - yes, they are. (not any specific given in data description)\n",
        "\n",
        "4. Expected value of the cell should be 5 or greater in atlest 80% of cells.\n",
        "      - 4 out of 16 doesn't follow this assumption.\n",
        "\n",
        "        Only 75% cell have value greater than 5.\n",
        "\n",
        "**So we can't rely on the result of the chi-square test**.\n",
        "\n",
        "But as the p-value is very less we can reject the null hypothesis which means these two features are dependent on each other.\n"
      ],
      "metadata": {
        "id": "M3QfNWJ1mSqw"
      }
    },
    {
      "cell_type": "markdown",
      "source": [
        "___\n",
        "\n",
        "## Working Day vs Count\n",
        "\n",
        "Now we can check whether day being working day or not affects the number of cycles rented (count).\n",
        "\n",
        "H0: Count is indenpendent of whether day is working or not.\n",
        "\n",
        "Ha: Count gets affected by whether day is working or not.\n",
        "\n",
        "As we have one categorical variable and other numerical we can use 2 sample independent t test."
      ],
      "metadata": {
        "id": "0V3-uA41rfNf"
      }
    },
    {
      "cell_type": "code",
      "source": [
        "sns.kdeplot(x = 'count', data = raw_data, hue = 'workingday')"
      ],
      "metadata": {
        "colab": {
          "base_uri": "https://localhost:8080/",
          "height": 298
        },
        "id": "NmUdkLXJqN4V",
        "outputId": "7fb29aab-3b0f-4c37-802f-386eae8b16ef"
      },
      "execution_count": null,
      "outputs": [
        {
          "output_type": "execute_result",
          "data": {
            "text/plain": [
              "<matplotlib.axes._subplots.AxesSubplot at 0x7f4319325c90>"
            ]
          },
          "metadata": {},
          "execution_count": 204
        },
        {
          "output_type": "display_data",
          "data": {
            "text/plain": [
              "<Figure size 432x288 with 1 Axes>"
            ],
            "image/png": "[encoded data removed]"
          },
          "metadata": {
            "needs_background": "light"
          }
        }
      ]
    },
    {
      "cell_type": "code",
      "source": [
        "no_workingday = raw_data[raw_data['workingday'] == 0]['count']\n",
        "workingday = raw_data[raw_data['workingday'] == 1]['count']"
      ],
      "metadata": {
        "id": "R6GxF3jK3-Jk"
      },
      "execution_count": null,
      "outputs": []
    },
    {
      "cell_type": "code",
      "source": [
        "print(shapiro(no_workingday))\n",
        "# let's check the p-value for after log transform\n",
        "print(shapiro(np.log(no_workingday)))"
      ],
      "metadata": {
        "colab": {
          "base_uri": "https://localhost:8080/"
        },
        "id": "gr77dm1zwa5h",
        "outputId": "773fb33c-a28a-4f69-e263-b2abe2248b6a"
      },
      "execution_count": null,
      "outputs": [
        {
          "output_type": "stream",
          "name": "stdout",
          "text": [
            "ShapiroResult(statistic=0.8852126598358154, pvalue=4.203895392974451e-45)\n",
            "ShapiroResult(statistic=0.9339465498924255, pvalue=9.749252684808278e-37)\n"
          ]
        }
      ]
    },
    {
      "cell_type": "markdown",
      "source": [
        "As p-value is very small, we reject the null hypothesis which means distrinution is not normal and even after doing log transform it's not improved."
      ],
      "metadata": {
        "id": "Wn9z81p3BNEr"
      }
    },
    {
      "cell_type": "code",
      "source": [
        "print(shapiro(workingday))"
      ],
      "metadata": {
        "colab": {
          "base_uri": "https://localhost:8080/"
        },
        "id": "x9c5kXyLwlpX",
        "outputId": "f228b310-c846-4550-e9a8-0fcb3c485d5c"
      },
      "execution_count": null,
      "outputs": [
        {
          "output_type": "stream",
          "name": "stdout",
          "text": [
            "ShapiroResult(statistic=0.8702576160430908, pvalue=0.0)\n"
          ]
        }
      ]
    },
    {
      "cell_type": "markdown",
      "source": [
        "Let's use the Boxcox transformation on these data."
      ],
      "metadata": {
        "id": "LjhFZT2OzmZ2"
      }
    },
    {
      "cell_type": "code",
      "source": [
        "trans_no_workingday, tran_lambda = boxcox(no_workingday)\n",
        "sns.displot(trans_no_workingday, kde = True)"
      ],
      "metadata": {
        "colab": {
          "base_uri": "https://localhost:8080/",
          "height": 386
        },
        "id": "X2z-fdCCz2Vu",
        "outputId": "4dec3fd8-59e1-4311-b587-17418434706e"
      },
      "execution_count": null,
      "outputs": [
        {
          "output_type": "execute_result",
          "data": {
            "text/plain": [
              "<seaborn.axisgrid.FacetGrid at 0x7f4319a64650>"
            ]
          },
          "metadata": {},
          "execution_count": 210
        },
        {
          "output_type": "display_data",
          "data": {
            "text/plain": [
              "<Figure size 360x360 with 1 Axes>"
            ],
            "image/png": "[encoded data removed]"
          },
          "metadata": {
            "needs_background": "light"
          }
        }
      ]
    },
    {
      "cell_type": "code",
      "source": [
        "print(shapiro(trans_no_workingday))"
      ],
      "metadata": {
        "colab": {
          "base_uri": "https://localhost:8080/"
        },
        "id": "4C3MVbcH0cs3",
        "outputId": "b24e9033-63f3-42f9-f02e-73518038acdd"
      },
      "execution_count": null,
      "outputs": [
        {
          "output_type": "stream",
          "name": "stdout",
          "text": [
            "ShapiroResult(statistic=0.975882351398468, pvalue=8.139842317861285e-24)\n"
          ]
        }
      ]
    },
    {
      "cell_type": "markdown",
      "source": [
        "From the kde plot and shapiro test, we can day that the distributions are not normal.\n",
        "Even after applying boxcox transformation data is not becoming normal."
      ],
      "metadata": {
        "id": "bvPEqzNb0q6Z"
      }
    },
    {
      "cell_type": "code",
      "source": [
        "#Quantitle - Quantile plot.\n",
        "# it shows how similar two samples are\n",
        "qqplot_2samples(no_workingday, workingday, line = 'r')\n",
        "plt.show()"
      ],
      "metadata": {
        "colab": {
          "base_uri": "https://localhost:8080/",
          "height": 279
        },
        "id": "_ZeNpnK33_M9",
        "outputId": "6a48b48d-d5b1-469b-ce35-74b95be82dd9"
      },
      "execution_count": null,
      "outputs": [
        {
          "output_type": "display_data",
          "data": {
            "text/plain": [
              "<Figure size 432x288 with 1 Axes>"
            ],
            "image/png": "[encoded data removed]"
          },
          "metadata": {
            "needs_background": "light"
          }
        }
      ]
    },
    {
      "cell_type": "markdown",
      "source": [
        "Here, we can see that the data is almost same 60 percentile. There is slight deviation in the end.\n",
        "\n",
        "Let's explore more on this using Empherical CDF."
      ],
      "metadata": {
        "id": "RtP4xPuN4zxh"
      }
    },
    {
      "cell_type": "code",
      "source": [
        "e1 = ECDF(no_workingday)\n",
        "e2 = ECDF(workingday)"
      ],
      "metadata": {
        "id": "vG7rBSYG5l93"
      },
      "execution_count": null,
      "outputs": []
    },
    {
      "cell_type": "code",
      "source": [
        "plt.plot(e1.x, e1.y, c = 'b')\n",
        "plt.plot(e2.x, e2.y, c = 'r')"
      ],
      "metadata": {
        "colab": {
          "base_uri": "https://localhost:8080/",
          "height": 282
        },
        "id": "W3p1kCzg50nm",
        "outputId": "eb04dfc3-b081-406c-f1ce-523c2e654ce3"
      },
      "execution_count": null,
      "outputs": [
        {
          "output_type": "execute_result",
          "data": {
            "text/plain": [
              "[<matplotlib.lines.Line2D at 0x7f43190bf850>]"
            ]
          },
          "metadata": {},
          "execution_count": 214
        },
        {
          "output_type": "display_data",
          "data": {
            "text/plain": [
              "<Figure size 432x288 with 1 Axes>"
            ],
            "image/png": "[encoded data removed]"
          },
          "metadata": {
            "needs_background": "light"
          }
        }
      ]
    },
    {
      "cell_type": "markdown",
      "source": [
        "Both the CDF plots for the number of cycles rented on working day and non working day looks similar."
      ],
      "metadata": {
        "id": "edHtqYAt8ug3"
      }
    },
    {
      "cell_type": "markdown",
      "source": [
        "Before applying the t test let's check on whether the variance of two samples are similar or not."
      ],
      "metadata": {
        "id": "s_0io234-acq"
      }
    },
    {
      "cell_type": "code",
      "source": [
        "print(no_workingday.std())\n",
        "print(workingday.std())"
      ],
      "metadata": {
        "colab": {
          "base_uri": "https://localhost:8080/"
        },
        "id": "A5BvS5t7-m6Z",
        "outputId": "081916fc-97e7-4ee3-b312-342d2ba76af3"
      },
      "execution_count": null,
      "outputs": [
        {
          "output_type": "stream",
          "name": "stdout",
          "text": [
            "173.7240153250003\n",
            "184.5136590421481\n"
          ]
        }
      ]
    },
    {
      "cell_type": "markdown",
      "source": [
        "We can see that there is difference in the standard deviation in numbers of electric cycles on working day and on non working day.\n",
        "\n",
        "Let's see if this ***difference is statistically significant*** or not.\n",
        "We will test that using leven\n",
        "\n",
        "H0: std of both are same\n",
        "\n",
        "Ha: std are not same"
      ],
      "metadata": {
        "id": "Xi2lNsOB--82"
      }
    },
    {
      "cell_type": "code",
      "source": [
        "levene(no_workingday, workingday)"
      ],
      "metadata": {
        "colab": {
          "base_uri": "https://localhost:8080/"
        },
        "id": "HrBQP0fMAhGj",
        "outputId": "fbae9afe-65c5-4dbe-a447-d9aec098c155"
      },
      "execution_count": null,
      "outputs": [
        {
          "output_type": "execute_result",
          "data": {
            "text/plain": [
              "LeveneResult(statistic=0.004972848886504472, pvalue=0.9437823280916695)"
            ]
          },
          "metadata": {},
          "execution_count": 216
        }
      ]
    },
    {
      "cell_type": "markdown",
      "source": [
        "We fail to reject the Null hypothesis, **which means difference in std is not significant**.\n",
        "\n",
        "Thus, we can apply t test."
      ],
      "metadata": {
        "id": "Gku2p1XvBHiy"
      }
    },
    {
      "cell_type": "code",
      "source": [
        "ttest_ind(no_workingday, workingday)"
      ],
      "metadata": {
        "colab": {
          "base_uri": "https://localhost:8080/"
        },
        "id": "r1rBDYhHhW4I",
        "outputId": "f612959d-26b4-43ec-ab99-5de36e9272ee"
      },
      "execution_count": null,
      "outputs": [
        {
          "output_type": "execute_result",
          "data": {
            "text/plain": [
              "Ttest_indResult(statistic=-1.2096277376026694, pvalue=0.22644804226361348)"
            ]
          },
          "metadata": {},
          "execution_count": 217
        }
      ]
    },
    {
      "cell_type": "markdown",
      "source": [
        "If we take alpha as 5%, then also we fail to reject the Null hypothesis.\n",
        "\n",
        "**So, the number of electric cycles rented is not dependent on whether the day is working or not.**"
      ],
      "metadata": {
        "id": "LgYRcjl_t2fS"
      }
    },
    {
      "cell_type": "code",
      "source": [
        "#let's do annova on this to see if we will get same result\n",
        "f_oneway(no_workingday, workingday)"
      ],
      "metadata": {
        "colab": {
          "base_uri": "https://localhost:8080/"
        },
        "id": "jcJbJaHbtm3E",
        "outputId": "c51ab111-8644-4755-ace3-e7da493904f4"
      },
      "execution_count": null,
      "outputs": [
        {
          "output_type": "execute_result",
          "data": {
            "text/plain": [
              "F_onewayResult(statistic=1.4631992635777575, pvalue=0.22644804226428558)"
            ]
          },
          "metadata": {},
          "execution_count": 218
        }
      ]
    },
    {
      "cell_type": "markdown",
      "source": [
        "From ANOVA test also we can conclude that number of bike rented is independent of working day status."
      ],
      "metadata": {
        "id": "QT3JkhksuhJd"
      }
    },
    {
      "cell_type": "code",
      "source": [
        "# let's do the kruskal test also as it does in rank way (so it doesn't require accomplish all assumptions of ANOVA)\n",
        "kruskal(no_workingday, workingday)"
      ],
      "metadata": {
        "colab": {
          "base_uri": "https://localhost:8080/"
        },
        "id": "wAgAlKgOufEU",
        "outputId": "850f768a-2d60-41ff-c9a9-f9059fa0cbc8"
      },
      "execution_count": null,
      "outputs": [
        {
          "output_type": "execute_result",
          "data": {
            "text/plain": [
              "KruskalResult(statistic=0.0016182887191034687, pvalue=0.9679113872727798)"
            ]
          },
          "metadata": {},
          "execution_count": 219
        }
      ]
    },
    {
      "cell_type": "code",
      "source": [],
      "metadata": {
        "id": "JVcbqVDL_wVt"
      },
      "execution_count": null,
      "outputs": []
    }
  ]
}